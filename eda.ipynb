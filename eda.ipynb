{
 "cells": [
  {
   "cell_type": "markdown",
   "metadata": {
    "id": "wlwAS4o8ui8V"
   },
   "source": [
    "# Theme : Infrastructure Deficit- addressing this deficit: AI's Transformative Role in Planning\n",
    "***Project title : Towards Smarter Healthcare Infrastructure: The AI Perspective***\n"
   ]
  },
  {
   "cell_type": "markdown",
   "metadata": {
    "id": "gEwU4VzRu-9_"
   },
   "source": [
    "![hf1.jpg](data:image/jpeg;base64,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)"
   ]
  },
  {
   "cell_type": "markdown",
   "metadata": {
    "id": "WH5uDieVvNWB"
   },
   "source": [
    "**Introduction**\n",
    "\n",
    "*The Importance of Infrastructure in the development of a country cannot be over-emphasized. Infrastructure refers to the physical systems of a region or nation that contributes to its development . This includes good roads, healthcare facilities, Educational facilities and so on. This project focuses on the healthcare Infrastructure*\n",
    "*The IDB Invest forum (a member of the Inter-American development bank group )reported that:*  \n",
    "“*One of the most basic problems in the health system is that the physical infrastructure is ageing and poorly maintained. The IDB estimates the need for investment in this area at around $100 billion—both to replace old hospitals, clinics and medical equipment and to upgrade infrastructure to meet today’s energy efficiency standards*”  \n",
    "\n",
    "**Project Goal**\n",
    "\n",
    "*Analyse the data to identify patterns in the distribution of healthcare facilities and anticipate (predict) potential future changes, such as growth or decline. The objective is to facilitate informed decision-making when it comes to healthcare infrastructure development*.\n",
    "\n",
    "**About the Dataset**\n",
    "\n",
    "*The dataset was gotten from kaggle and it was provided by the World Health Organisation (W.H.O.) for research and educational purposes. It contains 283 rows and 8 columns listed as thus* :\n",
    "\n",
    "- *Country : Name of the country*\n",
    "- *Year : Year which the data was recorded, which is 2010 and 2014*\n",
    "- *Total Density per 100,000 population: Health posts :  number of  health environments with very limited number of beds per 100,000 persons in the country*\n",
    "- *Total Density per 100,000 population: Health centers : number of health centers per 100,000 persons in the country*\n",
    "- *Total Density per 100,000 population: District/rural hospitals :  number of district/rural per 100,000 persons in the country*\n",
    "- *Total Density per 100,000 population: Provincial Hospitals :  number of provincial hospitals  per 100,000 persons in the country*\n",
    "- *Total Density per 100,000 population: Specilized hospitals :  number of specialised hospitals  per 100,000 persons in the country*\n",
    "- *Total Density per 100,000 population: Hospitals :  number of hospitals  per 100,000 persons in the country*  \n"
   ]
  },
  {
   "cell_type": "code",
   "execution_count": 1,
   "metadata": {},
   "outputs": [],
   "source": [
    "# install dependencies\n",
    "\n",
    "# the library classifies countries into their various continents\n",
    "\n",
    "# ! pip install pycountry-convert"
   ]
  },
  {
   "cell_type": "code",
   "execution_count": 2,
   "metadata": {
    "id": "9ZDEYqj2uGjo"
   },
   "outputs": [],
   "source": [
    "# Import the necessary libraries\n",
    "\n",
    "import pandas as pd\n",
    "import numpy as np\n",
    "import matplotlib.pyplot as plt\n",
    "import seaborn as sns"
   ]
  },
  {
   "cell_type": "code",
   "execution_count": 3,
   "metadata": {
    "colab": {
     "base_uri": "https://localhost:8080/",
     "height": 224
    },
    "id": "iDusM_x429IU",
    "outputId": "689cb6fa-2db2-4d42-b57c-c3c94655536e"
   },
   "outputs": [
    {
     "data": {
      "text/html": [
       "<div>\n",
       "<style scoped>\n",
       "    .dataframe tbody tr th:only-of-type {\n",
       "        vertical-align: middle;\n",
       "    }\n",
       "\n",
       "    .dataframe tbody tr th {\n",
       "        vertical-align: top;\n",
       "    }\n",
       "\n",
       "    .dataframe thead th {\n",
       "        text-align: right;\n",
       "    }\n",
       "</style>\n",
       "<table border=\"1\" class=\"dataframe\">\n",
       "  <thead>\n",
       "    <tr style=\"text-align: right;\">\n",
       "      <th></th>\n",
       "      <th>Country</th>\n",
       "      <th>Year</th>\n",
       "      <th>Total density per 100 000 population: Health posts</th>\n",
       "      <th>Total density per 100 000 population: Health centres</th>\n",
       "      <th>Total density per 100 000 population: District/rural hospitals</th>\n",
       "      <th>Total density per 100 000 population: Provincial hospitals</th>\n",
       "      <th>Total density per 100 000 population: Specialized hospitals</th>\n",
       "      <th>Total density per 100 000 population: Hospitals</th>\n",
       "    </tr>\n",
       "  </thead>\n",
       "  <tbody>\n",
       "    <tr>\n",
       "      <th>0</th>\n",
       "      <td>Afghanistan</td>\n",
       "      <td>2013</td>\n",
       "      <td>2.95</td>\n",
       "      <td>1.22</td>\n",
       "      <td>0.18</td>\n",
       "      <td>0.10</td>\n",
       "      <td>0.09</td>\n",
       "      <td>0.37</td>\n",
       "    </tr>\n",
       "    <tr>\n",
       "      <th>1</th>\n",
       "      <td>Afghanistan</td>\n",
       "      <td>2010</td>\n",
       "      <td>2.87</td>\n",
       "      <td>1.19</td>\n",
       "      <td>0.18</td>\n",
       "      <td>0.10</td>\n",
       "      <td>0.08</td>\n",
       "      <td>NaN</td>\n",
       "    </tr>\n",
       "    <tr>\n",
       "      <th>2</th>\n",
       "      <td>Albania</td>\n",
       "      <td>2013</td>\n",
       "      <td>13.08</td>\n",
       "      <td>NaN</td>\n",
       "      <td>0.72</td>\n",
       "      <td>0.35</td>\n",
       "      <td>0.28</td>\n",
       "      <td>1.36</td>\n",
       "    </tr>\n",
       "    <tr>\n",
       "      <th>3</th>\n",
       "      <td>Albania</td>\n",
       "      <td>2010</td>\n",
       "      <td>12.95</td>\n",
       "      <td>NaN</td>\n",
       "      <td>0.72</td>\n",
       "      <td>0.34</td>\n",
       "      <td>0.28</td>\n",
       "      <td>NaN</td>\n",
       "    </tr>\n",
       "    <tr>\n",
       "      <th>4</th>\n",
       "      <td>Angola</td>\n",
       "      <td>2010</td>\n",
       "      <td>NaN</td>\n",
       "      <td>NaN</td>\n",
       "      <td>NaN</td>\n",
       "      <td>0.00</td>\n",
       "      <td>0.00</td>\n",
       "      <td>NaN</td>\n",
       "    </tr>\n",
       "  </tbody>\n",
       "</table>\n",
       "</div>"
      ],
      "text/plain": [
       "       Country  Year  Total density per 100 000 population: Health posts  \\\n",
       "0  Afghanistan  2013                                               2.95    \n",
       "1  Afghanistan  2010                                               2.87    \n",
       "2      Albania  2013                                              13.08    \n",
       "3      Albania  2010                                              12.95    \n",
       "4       Angola  2010                                                NaN    \n",
       "\n",
       "   Total density per 100 000 population: Health centres  \\\n",
       "0                                               1.22      \n",
       "1                                               1.19      \n",
       "2                                                NaN      \n",
       "3                                                NaN      \n",
       "4                                                NaN      \n",
       "\n",
       "   Total density per 100 000 population: District/rural hospitals  \\\n",
       "0                                               0.18                \n",
       "1                                               0.18                \n",
       "2                                               0.72                \n",
       "3                                               0.72                \n",
       "4                                                NaN                \n",
       "\n",
       "   Total density per 100 000 population: Provincial hospitals  \\\n",
       "0                                               0.10            \n",
       "1                                               0.10            \n",
       "2                                               0.35            \n",
       "3                                               0.34            \n",
       "4                                               0.00            \n",
       "\n",
       "   Total density per 100 000 population: Specialized hospitals  \\\n",
       "0                                               0.09             \n",
       "1                                               0.08             \n",
       "2                                               0.28             \n",
       "3                                               0.28             \n",
       "4                                               0.00             \n",
       "\n",
       "   Total density per 100 000 population: Hospitals  \n",
       "0                                             0.37  \n",
       "1                                              NaN  \n",
       "2                                             1.36  \n",
       "3                                              NaN  \n",
       "4                                              NaN  "
      ]
     },
     "execution_count": 3,
     "metadata": {},
     "output_type": "execute_result"
    }
   ],
   "source": [
    "# Loading the data\n",
    "df = pd.read_csv('dataset/WHO_Infrastructure.csv')\n",
    "\n",
    "# displaying the first 5 rows\n",
    "df.head()"
   ]
  },
  {
   "cell_type": "code",
   "execution_count": 4,
   "metadata": {
    "id": "7ADSqmQz29TX"
   },
   "outputs": [],
   "source": [
    "# create a copy of the original dataset\n",
    "data = df.copy()"
   ]
  },
  {
   "cell_type": "code",
   "execution_count": 5,
   "metadata": {
    "colab": {
     "base_uri": "https://localhost:8080/"
    },
    "id": "8mp5f5rd5_DO",
    "outputId": "faa83361-40d0-47b2-b3dd-1040c1cc3efb"
   },
   "outputs": [
    {
     "data": {
      "text/plain": [
       "(283, 8)"
      ]
     },
     "execution_count": 5,
     "metadata": {},
     "output_type": "execute_result"
    }
   ],
   "source": [
    "# check the shape of the data\n",
    "df.shape"
   ]
  },
  {
   "cell_type": "code",
   "execution_count": 6,
   "metadata": {
    "colab": {
     "base_uri": "https://localhost:8080/"
    },
    "id": "t-cf9Ns05_GI",
    "outputId": "0af83df9-7c0f-4520-ab33-7bf09edda4ee"
   },
   "outputs": [
    {
     "data": {
      "text/plain": [
       "Country                                                            object\n",
       "Year                                                                int64\n",
       "Total density per 100 000 population: Health posts                float64\n",
       "Total density per 100 000 population: Health centres              float64\n",
       "Total density per 100 000 population: District/rural hospitals    float64\n",
       "Total density per 100 000 population: Provincial hospitals        float64\n",
       "Total density per 100 000 population: Specialized hospitals       float64\n",
       "Total density per 100 000 population: Hospitals                   float64\n",
       "dtype: object"
      ]
     },
     "execution_count": 6,
     "metadata": {},
     "output_type": "execute_result"
    }
   ],
   "source": [
    "# check the data types\n",
    "df.dtypes"
   ]
  },
  {
   "cell_type": "code",
   "execution_count": 7,
   "metadata": {
    "id": "dc7vs3Z8CkYJ"
   },
   "outputs": [],
   "source": [
    "# Year is not in the right format, let's change it to datetime\n",
    "\n",
    "import datetime\n",
    "df['Year'] = pd.to_datetime(df['Year'],format = '%Y')"
   ]
  },
  {
   "cell_type": "code",
   "execution_count": 8,
   "metadata": {
    "colab": {
     "base_uri": "https://localhost:8080/"
    },
    "id": "rRHPboo9DAcU",
    "outputId": "72862724-cb42-4b5a-935d-5ee2c441f174"
   },
   "outputs": [
    {
     "data": {
      "text/plain": [
       "Country                                                                   object\n",
       "Year                                                              datetime64[ns]\n",
       "Total density per 100 000 population: Health posts                       float64\n",
       "Total density per 100 000 population: Health centres                     float64\n",
       "Total density per 100 000 population: District/rural hospitals           float64\n",
       "Total density per 100 000 population: Provincial hospitals               float64\n",
       "Total density per 100 000 population: Specialized hospitals              float64\n",
       "Total density per 100 000 population: Hospitals                          float64\n",
       "dtype: object"
      ]
     },
     "execution_count": 8,
     "metadata": {},
     "output_type": "execute_result"
    }
   ],
   "source": [
    "# status check\n",
    "\n",
    "df.dtypes"
   ]
  },
  {
   "cell_type": "code",
   "execution_count": 9,
   "metadata": {
    "colab": {
     "base_uri": "https://localhost:8080/",
     "height": 310
    },
    "id": "9Ai-7r8xEBny",
    "outputId": "b0211d37-26b2-4962-9747-73f528d3ce9b"
   },
   "outputs": [
    {
     "data": {
      "text/html": [
       "<div>\n",
       "<style scoped>\n",
       "    .dataframe tbody tr th:only-of-type {\n",
       "        vertical-align: middle;\n",
       "    }\n",
       "\n",
       "    .dataframe tbody tr th {\n",
       "        vertical-align: top;\n",
       "    }\n",
       "\n",
       "    .dataframe thead th {\n",
       "        text-align: right;\n",
       "    }\n",
       "</style>\n",
       "<table border=\"1\" class=\"dataframe\">\n",
       "  <thead>\n",
       "    <tr style=\"text-align: right;\">\n",
       "      <th></th>\n",
       "      <th>Country</th>\n",
       "      <th>Year</th>\n",
       "      <th>Total density per 100 000 population: Health posts</th>\n",
       "      <th>Total density per 100 000 population: Health centres</th>\n",
       "      <th>Total density per 100 000 population: District/rural hospitals</th>\n",
       "      <th>Total density per 100 000 population: Provincial hospitals</th>\n",
       "      <th>Total density per 100 000 population: Specialized hospitals</th>\n",
       "      <th>Total density per 100 000 population: Hospitals</th>\n",
       "      <th>Year1</th>\n",
       "    </tr>\n",
       "  </thead>\n",
       "  <tbody>\n",
       "    <tr>\n",
       "      <th>0</th>\n",
       "      <td>Afghanistan</td>\n",
       "      <td>2013-01-01</td>\n",
       "      <td>2.95</td>\n",
       "      <td>1.22</td>\n",
       "      <td>0.18</td>\n",
       "      <td>0.10</td>\n",
       "      <td>0.09</td>\n",
       "      <td>0.37</td>\n",
       "      <td>2013</td>\n",
       "    </tr>\n",
       "    <tr>\n",
       "      <th>1</th>\n",
       "      <td>Afghanistan</td>\n",
       "      <td>2010-01-01</td>\n",
       "      <td>2.87</td>\n",
       "      <td>1.19</td>\n",
       "      <td>0.18</td>\n",
       "      <td>0.10</td>\n",
       "      <td>0.08</td>\n",
       "      <td>NaN</td>\n",
       "      <td>2010</td>\n",
       "    </tr>\n",
       "    <tr>\n",
       "      <th>2</th>\n",
       "      <td>Albania</td>\n",
       "      <td>2013-01-01</td>\n",
       "      <td>13.08</td>\n",
       "      <td>NaN</td>\n",
       "      <td>0.72</td>\n",
       "      <td>0.35</td>\n",
       "      <td>0.28</td>\n",
       "      <td>1.36</td>\n",
       "      <td>2013</td>\n",
       "    </tr>\n",
       "    <tr>\n",
       "      <th>3</th>\n",
       "      <td>Albania</td>\n",
       "      <td>2010-01-01</td>\n",
       "      <td>12.95</td>\n",
       "      <td>NaN</td>\n",
       "      <td>0.72</td>\n",
       "      <td>0.34</td>\n",
       "      <td>0.28</td>\n",
       "      <td>NaN</td>\n",
       "      <td>2010</td>\n",
       "    </tr>\n",
       "    <tr>\n",
       "      <th>4</th>\n",
       "      <td>Angola</td>\n",
       "      <td>2010-01-01</td>\n",
       "      <td>NaN</td>\n",
       "      <td>NaN</td>\n",
       "      <td>NaN</td>\n",
       "      <td>0.00</td>\n",
       "      <td>0.00</td>\n",
       "      <td>NaN</td>\n",
       "      <td>2010</td>\n",
       "    </tr>\n",
       "  </tbody>\n",
       "</table>\n",
       "</div>"
      ],
      "text/plain": [
       "       Country       Year  Total density per 100 000 population: Health posts  \\\n",
       "0  Afghanistan 2013-01-01                                               2.95    \n",
       "1  Afghanistan 2010-01-01                                               2.87    \n",
       "2      Albania 2013-01-01                                              13.08    \n",
       "3      Albania 2010-01-01                                              12.95    \n",
       "4       Angola 2010-01-01                                                NaN    \n",
       "\n",
       "   Total density per 100 000 population: Health centres  \\\n",
       "0                                               1.22      \n",
       "1                                               1.19      \n",
       "2                                                NaN      \n",
       "3                                                NaN      \n",
       "4                                                NaN      \n",
       "\n",
       "   Total density per 100 000 population: District/rural hospitals  \\\n",
       "0                                               0.18                \n",
       "1                                               0.18                \n",
       "2                                               0.72                \n",
       "3                                               0.72                \n",
       "4                                                NaN                \n",
       "\n",
       "   Total density per 100 000 population: Provincial hospitals  \\\n",
       "0                                               0.10            \n",
       "1                                               0.10            \n",
       "2                                               0.35            \n",
       "3                                               0.34            \n",
       "4                                               0.00            \n",
       "\n",
       "   Total density per 100 000 population: Specialized hospitals  \\\n",
       "0                                               0.09             \n",
       "1                                               0.08             \n",
       "2                                               0.28             \n",
       "3                                               0.28             \n",
       "4                                               0.00             \n",
       "\n",
       "   Total density per 100 000 population: Hospitals  Year1  \n",
       "0                                             0.37   2013  \n",
       "1                                              NaN   2010  \n",
       "2                                             1.36   2013  \n",
       "3                                              NaN   2010  \n",
       "4                                              NaN   2010  "
      ]
     },
     "execution_count": 9,
     "metadata": {},
     "output_type": "execute_result"
    }
   ],
   "source": [
    "# Extracting only the year from this new date\n",
    "\n",
    "df['Year1'] = df['Year'].dt.year\n",
    "df.head()"
   ]
  },
  {
   "cell_type": "code",
   "execution_count": 10,
   "metadata": {
    "id": "VmCvZ4x7EBzP"
   },
   "outputs": [],
   "source": [
    "# remove the original year column\n",
    "df = df.drop(columns = ['Year'])"
   ]
  },
  {
   "cell_type": "code",
   "execution_count": 11,
   "metadata": {
    "colab": {
     "base_uri": "https://localhost:8080/",
     "height": 224
    },
    "id": "VmJrzDUyEB7X",
    "outputId": "b404ab93-4fe0-4def-bf2e-dc6f308addb4"
   },
   "outputs": [
    {
     "data": {
      "text/html": [
       "<div>\n",
       "<style scoped>\n",
       "    .dataframe tbody tr th:only-of-type {\n",
       "        vertical-align: middle;\n",
       "    }\n",
       "\n",
       "    .dataframe tbody tr th {\n",
       "        vertical-align: top;\n",
       "    }\n",
       "\n",
       "    .dataframe thead th {\n",
       "        text-align: right;\n",
       "    }\n",
       "</style>\n",
       "<table border=\"1\" class=\"dataframe\">\n",
       "  <thead>\n",
       "    <tr style=\"text-align: right;\">\n",
       "      <th></th>\n",
       "      <th>Country</th>\n",
       "      <th>Total density per 100 000 population: Health posts</th>\n",
       "      <th>Total density per 100 000 population: Health centres</th>\n",
       "      <th>Total density per 100 000 population: District/rural hospitals</th>\n",
       "      <th>Total density per 100 000 population: Provincial hospitals</th>\n",
       "      <th>Total density per 100 000 population: Specialized hospitals</th>\n",
       "      <th>Total density per 100 000 population: Hospitals</th>\n",
       "      <th>Year</th>\n",
       "    </tr>\n",
       "  </thead>\n",
       "  <tbody>\n",
       "    <tr>\n",
       "      <th>0</th>\n",
       "      <td>Afghanistan</td>\n",
       "      <td>2.95</td>\n",
       "      <td>1.22</td>\n",
       "      <td>0.18</td>\n",
       "      <td>0.10</td>\n",
       "      <td>0.09</td>\n",
       "      <td>0.37</td>\n",
       "      <td>2013</td>\n",
       "    </tr>\n",
       "    <tr>\n",
       "      <th>1</th>\n",
       "      <td>Afghanistan</td>\n",
       "      <td>2.87</td>\n",
       "      <td>1.19</td>\n",
       "      <td>0.18</td>\n",
       "      <td>0.10</td>\n",
       "      <td>0.08</td>\n",
       "      <td>NaN</td>\n",
       "      <td>2010</td>\n",
       "    </tr>\n",
       "    <tr>\n",
       "      <th>2</th>\n",
       "      <td>Albania</td>\n",
       "      <td>13.08</td>\n",
       "      <td>NaN</td>\n",
       "      <td>0.72</td>\n",
       "      <td>0.35</td>\n",
       "      <td>0.28</td>\n",
       "      <td>1.36</td>\n",
       "      <td>2013</td>\n",
       "    </tr>\n",
       "    <tr>\n",
       "      <th>3</th>\n",
       "      <td>Albania</td>\n",
       "      <td>12.95</td>\n",
       "      <td>NaN</td>\n",
       "      <td>0.72</td>\n",
       "      <td>0.34</td>\n",
       "      <td>0.28</td>\n",
       "      <td>NaN</td>\n",
       "      <td>2010</td>\n",
       "    </tr>\n",
       "    <tr>\n",
       "      <th>4</th>\n",
       "      <td>Angola</td>\n",
       "      <td>NaN</td>\n",
       "      <td>NaN</td>\n",
       "      <td>NaN</td>\n",
       "      <td>0.00</td>\n",
       "      <td>0.00</td>\n",
       "      <td>NaN</td>\n",
       "      <td>2010</td>\n",
       "    </tr>\n",
       "  </tbody>\n",
       "</table>\n",
       "</div>"
      ],
      "text/plain": [
       "       Country  Total density per 100 000 population: Health posts  \\\n",
       "0  Afghanistan                                               2.95    \n",
       "1  Afghanistan                                               2.87    \n",
       "2      Albania                                              13.08    \n",
       "3      Albania                                              12.95    \n",
       "4       Angola                                                NaN    \n",
       "\n",
       "   Total density per 100 000 population: Health centres  \\\n",
       "0                                               1.22      \n",
       "1                                               1.19      \n",
       "2                                                NaN      \n",
       "3                                                NaN      \n",
       "4                                                NaN      \n",
       "\n",
       "   Total density per 100 000 population: District/rural hospitals  \\\n",
       "0                                               0.18                \n",
       "1                                               0.18                \n",
       "2                                               0.72                \n",
       "3                                               0.72                \n",
       "4                                                NaN                \n",
       "\n",
       "   Total density per 100 000 population: Provincial hospitals  \\\n",
       "0                                               0.10            \n",
       "1                                               0.10            \n",
       "2                                               0.35            \n",
       "3                                               0.34            \n",
       "4                                               0.00            \n",
       "\n",
       "   Total density per 100 000 population: Specialized hospitals  \\\n",
       "0                                               0.09             \n",
       "1                                               0.08             \n",
       "2                                               0.28             \n",
       "3                                               0.28             \n",
       "4                                               0.00             \n",
       "\n",
       "   Total density per 100 000 population: Hospitals  Year  \n",
       "0                                             0.37  2013  \n",
       "1                                              NaN  2010  \n",
       "2                                             1.36  2013  \n",
       "3                                              NaN  2010  \n",
       "4                                              NaN  2010  "
      ]
     },
     "execution_count": 11,
     "metadata": {},
     "output_type": "execute_result"
    }
   ],
   "source": [
    "# rename the new year column (i.e year1-year)\n",
    "\n",
    "df = df.rename(columns= {'Year1':'Year'})\n",
    "df.head()"
   ]
  },
  {
   "cell_type": "code",
   "execution_count": 12,
   "metadata": {
    "colab": {
     "base_uri": "https://localhost:8080/"
    },
    "id": "mvqidRJBG4V5",
    "outputId": "858477b6-396c-4060-f28a-1f3913179497"
   },
   "outputs": [
    {
     "data": {
      "text/plain": [
       "Country                                                            object\n",
       "Total density per 100 000 population: Health posts                float64\n",
       "Total density per 100 000 population: Health centres              float64\n",
       "Total density per 100 000 population: District/rural hospitals    float64\n",
       "Total density per 100 000 population: Provincial hospitals        float64\n",
       "Total density per 100 000 population: Specialized hospitals       float64\n",
       "Total density per 100 000 population: Hospitals                   float64\n",
       "Year                                                                int64\n",
       "dtype: object"
      ]
     },
     "execution_count": 12,
     "metadata": {},
     "output_type": "execute_result"
    }
   ],
   "source": [
    "# status check\n",
    "df.dtypes"
   ]
  },
  {
   "cell_type": "code",
   "execution_count": 13,
   "metadata": {
    "colab": {
     "base_uri": "https://localhost:8080/"
    },
    "id": "w3Es_HG45_JL",
    "outputId": "010b229e-31b6-4ae5-aa53-d9f20159282f"
   },
   "outputs": [
    {
     "data": {
      "text/plain": [
       "Country                                                             0\n",
       "Total density per 100 000 population: Health posts                 61\n",
       "Total density per 100 000 population: Health centres               64\n",
       "Total density per 100 000 population: District/rural hospitals     39\n",
       "Total density per 100 000 population: Provincial hospitals         32\n",
       "Total density per 100 000 population: Specialized hospitals        31\n",
       "Total density per 100 000 population: Hospitals                   146\n",
       "Year                                                                0\n",
       "dtype: int64"
      ]
     },
     "execution_count": 13,
     "metadata": {},
     "output_type": "execute_result"
    }
   ],
   "source": [
    "# check for null values\n",
    "df.isna().sum()"
   ]
  },
  {
   "cell_type": "code",
   "execution_count": 14,
   "metadata": {
    "colab": {
     "base_uri": "https://localhost:8080/"
    },
    "id": "uiv-_9uF29gw",
    "outputId": "7158c686-ac04-464d-9ac2-bdd27cd7e7fc"
   },
   "outputs": [
    {
     "data": {
      "text/plain": [
       "0"
      ]
     },
     "execution_count": 14,
     "metadata": {},
     "output_type": "execute_result"
    }
   ],
   "source": [
    "# check for duplicates\n",
    "df.duplicated().sum()"
   ]
  },
  {
   "cell_type": "code",
   "execution_count": 15,
   "metadata": {
    "id": "_HnUWTdM29rZ"
   },
   "outputs": [],
   "source": [
    "# Handling missing values (fill with mean of columns )\n",
    "\n",
    "for column in df.columns:\n",
    "    if df[column].isnull().any():  # Check if the column has missing values\n",
    "        df[column].fillna(df[column].mean(), inplace=True)"
   ]
  },
  {
   "cell_type": "code",
   "execution_count": 16,
   "metadata": {
    "colab": {
     "base_uri": "https://localhost:8080/"
    },
    "id": "4lbxSa1P-gQF",
    "outputId": "61002524-3c4e-4d9c-9b8a-a7bd783195d8"
   },
   "outputs": [
    {
     "data": {
      "text/plain": [
       "Country                                                           0\n",
       "Total density per 100 000 population: Health posts                0\n",
       "Total density per 100 000 population: Health centres              0\n",
       "Total density per 100 000 population: District/rural hospitals    0\n",
       "Total density per 100 000 population: Provincial hospitals        0\n",
       "Total density per 100 000 population: Specialized hospitals       0\n",
       "Total density per 100 000 population: Hospitals                   0\n",
       "Year                                                              0\n",
       "dtype: int64"
      ]
     },
     "execution_count": 16,
     "metadata": {},
     "output_type": "execute_result"
    }
   ],
   "source": [
    "# status check\n",
    "df.isna().sum()"
   ]
  },
  {
   "cell_type": "code",
   "execution_count": 17,
   "metadata": {
    "colab": {
     "base_uri": "https://localhost:8080/"
    },
    "id": "zXvSliU7-gXD",
    "outputId": "c73ce978-b109-430f-aee6-81b6c2d63d35"
   },
   "outputs": [
    {
     "data": {
      "text/plain": [
       "Index(['Country', 'Total density per 100 000 population: Health posts',\n",
       "       'Total density per 100 000 population: Health centres',\n",
       "       'Total density per 100 000 population: District/rural hospitals',\n",
       "       'Total density per 100 000 population: Provincial hospitals',\n",
       "       'Total density per 100 000 population: Specialized hospitals',\n",
       "       'Total density per 100 000 population: Hospitals', 'Year'],\n",
       "      dtype='object')"
      ]
     },
     "execution_count": 17,
     "metadata": {},
     "output_type": "execute_result"
    }
   ],
   "source": [
    "# checking column names or keys\n",
    "df.keys()"
   ]
  },
  {
   "cell_type": "code",
   "execution_count": 18,
   "metadata": {
    "id": "iJLBezWO-gas"
   },
   "outputs": [],
   "source": [
    "# Since we already know the densities are per 100,000 persons , Let's rename the columns\n",
    "df = df.rename(columns = {'Total density per 100 000 population: Health posts': 'Health posts','Total density per 100 000 population: Health centres':\n",
    "'Health centers','Total density per 100 000 population: District/rural hospitals': 'Rural/District hospitals',\n",
    "'Total density per 100 000 population: Provincial hospitals': 'Provincial hospitals','Total density per 100 000 population: Specialized hospitals':\n",
    "'Specialized Hospitals','Total density per 100 000 population: Hospitals': 'Hospitals'})\n"
   ]
  },
  {
   "cell_type": "code",
   "execution_count": 19,
   "metadata": {
    "colab": {
     "base_uri": "https://localhost:8080/"
    },
    "id": "ATH3BrLnAaCI",
    "outputId": "62fe3a20-e098-4b06-eadb-ad5ea24ba975"
   },
   "outputs": [
    {
     "data": {
      "text/plain": [
       "Index(['Country', 'Health posts', 'Health centers', 'Rural/District hospitals',\n",
       "       'Provincial hospitals', 'Specialized Hospitals', 'Hospitals', 'Year'],\n",
       "      dtype='object')"
      ]
     },
     "execution_count": 19,
     "metadata": {},
     "output_type": "execute_result"
    }
   ],
   "source": [
    "# status check\n",
    "df.keys()"
   ]
  },
  {
   "cell_type": "code",
   "execution_count": 20,
   "metadata": {},
   "outputs": [],
   "source": [
    "# Let's explore total density of healthcare facilities per country\n",
    "Total_hf = ['Health posts', 'Hospitals', 'Health centers', 'Rural/District hospitals', 'Provincial hospitals', 'Specialized Hospitals']\n",
    "\n",
    "df['Total_hf_densities'] = df[Total_hf].sum(axis=1)\n",
    "\n",
    "# Total_hf_densities sums up the density of the healthcare facilities by country"
   ]
  },
  {
   "cell_type": "code",
   "execution_count": 21,
   "metadata": {},
   "outputs": [
    {
     "data": {
      "text/html": [
       "<div>\n",
       "<style scoped>\n",
       "    .dataframe tbody tr th:only-of-type {\n",
       "        vertical-align: middle;\n",
       "    }\n",
       "\n",
       "    .dataframe tbody tr th {\n",
       "        vertical-align: top;\n",
       "    }\n",
       "\n",
       "    .dataframe thead th {\n",
       "        text-align: right;\n",
       "    }\n",
       "</style>\n",
       "<table border=\"1\" class=\"dataframe\">\n",
       "  <thead>\n",
       "    <tr style=\"text-align: right;\">\n",
       "      <th></th>\n",
       "      <th>Country</th>\n",
       "      <th>Health posts</th>\n",
       "      <th>Health centers</th>\n",
       "      <th>Rural/District hospitals</th>\n",
       "      <th>Provincial hospitals</th>\n",
       "      <th>Specialized Hospitals</th>\n",
       "      <th>Hospitals</th>\n",
       "      <th>Year</th>\n",
       "      <th>Total_hf_densities</th>\n",
       "      <th>Region</th>\n",
       "    </tr>\n",
       "  </thead>\n",
       "  <tbody>\n",
       "    <tr>\n",
       "      <th>0</th>\n",
       "      <td>Afghanistan</td>\n",
       "      <td>2.950000</td>\n",
       "      <td>1.220000</td>\n",
       "      <td>0.180000</td>\n",
       "      <td>0.10</td>\n",
       "      <td>0.09</td>\n",
       "      <td>0.370000</td>\n",
       "      <td>2013</td>\n",
       "      <td>4.910000</td>\n",
       "      <td>Asia</td>\n",
       "    </tr>\n",
       "    <tr>\n",
       "      <th>1</th>\n",
       "      <td>Afghanistan</td>\n",
       "      <td>2.870000</td>\n",
       "      <td>1.190000</td>\n",
       "      <td>0.180000</td>\n",
       "      <td>0.10</td>\n",
       "      <td>0.08</td>\n",
       "      <td>2.235401</td>\n",
       "      <td>2010</td>\n",
       "      <td>6.655401</td>\n",
       "      <td>Asia</td>\n",
       "    </tr>\n",
       "    <tr>\n",
       "      <th>2</th>\n",
       "      <td>Albania</td>\n",
       "      <td>13.080000</td>\n",
       "      <td>7.032648</td>\n",
       "      <td>0.720000</td>\n",
       "      <td>0.35</td>\n",
       "      <td>0.28</td>\n",
       "      <td>1.360000</td>\n",
       "      <td>2013</td>\n",
       "      <td>22.822648</td>\n",
       "      <td>Europe</td>\n",
       "    </tr>\n",
       "    <tr>\n",
       "      <th>3</th>\n",
       "      <td>Albania</td>\n",
       "      <td>12.950000</td>\n",
       "      <td>7.032648</td>\n",
       "      <td>0.720000</td>\n",
       "      <td>0.34</td>\n",
       "      <td>0.28</td>\n",
       "      <td>2.235401</td>\n",
       "      <td>2010</td>\n",
       "      <td>23.558050</td>\n",
       "      <td>Europe</td>\n",
       "    </tr>\n",
       "    <tr>\n",
       "      <th>4</th>\n",
       "      <td>Angola</td>\n",
       "      <td>22.120991</td>\n",
       "      <td>7.032648</td>\n",
       "      <td>1.188238</td>\n",
       "      <td>0.00</td>\n",
       "      <td>0.00</td>\n",
       "      <td>2.235401</td>\n",
       "      <td>2010</td>\n",
       "      <td>32.577279</td>\n",
       "      <td>Africa</td>\n",
       "    </tr>\n",
       "  </tbody>\n",
       "</table>\n",
       "</div>"
      ],
      "text/plain": [
       "       Country  Health posts  Health centers  Rural/District hospitals  \\\n",
       "0  Afghanistan      2.950000        1.220000                  0.180000   \n",
       "1  Afghanistan      2.870000        1.190000                  0.180000   \n",
       "2      Albania     13.080000        7.032648                  0.720000   \n",
       "3      Albania     12.950000        7.032648                  0.720000   \n",
       "4       Angola     22.120991        7.032648                  1.188238   \n",
       "\n",
       "   Provincial hospitals  Specialized Hospitals  Hospitals  Year  \\\n",
       "0                  0.10                   0.09   0.370000  2013   \n",
       "1                  0.10                   0.08   2.235401  2010   \n",
       "2                  0.35                   0.28   1.360000  2013   \n",
       "3                  0.34                   0.28   2.235401  2010   \n",
       "4                  0.00                   0.00   2.235401  2010   \n",
       "\n",
       "   Total_hf_densities  Region  \n",
       "0            4.910000    Asia  \n",
       "1            6.655401    Asia  \n",
       "2           22.822648  Europe  \n",
       "3           23.558050  Europe  \n",
       "4           32.577279  Africa  "
      ]
     },
     "execution_count": 21,
     "metadata": {},
     "output_type": "execute_result"
    }
   ],
   "source": [
    "# import library would allow us place countries in their various continents\n",
    "import pycountry_convert as pc\n",
    "\n",
    "def get_continent(country):\n",
    "    try:\n",
    "        country_code = pc.country_name_to_country_alpha2(country, cn_name_format=\"default\")\n",
    "        continent_code = pc.country_alpha2_to_continent_code(country_code)\n",
    "        continent_name = pc.convert_continent_code_to_continent_name(continent_code)\n",
    "        return continent_name\n",
    "    except:\n",
    "        return np.nan\n",
    "df['Region'] = df['Country'].apply(get_continent)\n",
    "df.head()"
   ]
  },
  {
   "cell_type": "code",
   "execution_count": 22,
   "metadata": {},
   "outputs": [],
   "source": [
    "# The data above will not be sufficient to derive insights, hence more data will be added."
   ]
  },
  {
   "cell_type": "code",
   "execution_count": 23,
   "metadata": {},
   "outputs": [
    {
     "data": {
      "text/html": [
       "<div>\n",
       "<style scoped>\n",
       "    .dataframe tbody tr th:only-of-type {\n",
       "        vertical-align: middle;\n",
       "    }\n",
       "\n",
       "    .dataframe tbody tr th {\n",
       "        vertical-align: top;\n",
       "    }\n",
       "\n",
       "    .dataframe thead th {\n",
       "        text-align: right;\n",
       "    }\n",
       "</style>\n",
       "<table border=\"1\" class=\"dataframe\">\n",
       "  <thead>\n",
       "    <tr style=\"text-align: right;\">\n",
       "      <th></th>\n",
       "      <th>Country Name</th>\n",
       "      <th>Country Code</th>\n",
       "      <th>Year</th>\n",
       "      <th>Agriculture (% GDP)</th>\n",
       "      <th>Ease of Doing Business</th>\n",
       "      <th>Education Expenditure (% GDP)</th>\n",
       "      <th>Export (% GDP)</th>\n",
       "      <th>GDP</th>\n",
       "      <th>Health Expenditure (% GDP)</th>\n",
       "      <th>Import (% GDP)</th>\n",
       "      <th>...</th>\n",
       "      <th>Population</th>\n",
       "      <th>Land</th>\n",
       "      <th>Continent Name</th>\n",
       "      <th>Export</th>\n",
       "      <th>Import</th>\n",
       "      <th>Education Expenditure</th>\n",
       "      <th>Health Expenditure</th>\n",
       "      <th>Net Trade</th>\n",
       "      <th>GDP Per Capita</th>\n",
       "      <th>Population Density</th>\n",
       "    </tr>\n",
       "  </thead>\n",
       "  <tbody>\n",
       "    <tr>\n",
       "      <th>0</th>\n",
       "      <td>Afghanistan</td>\n",
       "      <td>AFG</td>\n",
       "      <td>2000</td>\n",
       "      <td>27.501127</td>\n",
       "      <td>40.717968</td>\n",
       "      <td>13.670101</td>\n",
       "      <td>NaN</td>\n",
       "      <td>1.415197e+10</td>\n",
       "      <td>10.902580</td>\n",
       "      <td>NaN</td>\n",
       "      <td>...</td>\n",
       "      <td>19542982.0</td>\n",
       "      <td>652860.0</td>\n",
       "      <td>Asia</td>\n",
       "      <td>NaN</td>\n",
       "      <td>NaN</td>\n",
       "      <td>1.934589e+09</td>\n",
       "      <td>1.542930e+09</td>\n",
       "      <td>NaN</td>\n",
       "      <td>724.145910</td>\n",
       "      <td>29.934415</td>\n",
       "    </tr>\n",
       "    <tr>\n",
       "      <th>1</th>\n",
       "      <td>Afghanistan</td>\n",
       "      <td>AFG</td>\n",
       "      <td>2001</td>\n",
       "      <td>27.501127</td>\n",
       "      <td>40.717968</td>\n",
       "      <td>13.670101</td>\n",
       "      <td>NaN</td>\n",
       "      <td>1.415197e+10</td>\n",
       "      <td>10.902580</td>\n",
       "      <td>NaN</td>\n",
       "      <td>...</td>\n",
       "      <td>19688632.0</td>\n",
       "      <td>652860.0</td>\n",
       "      <td>Asia</td>\n",
       "      <td>NaN</td>\n",
       "      <td>NaN</td>\n",
       "      <td>1.934589e+09</td>\n",
       "      <td>1.542930e+09</td>\n",
       "      <td>NaN</td>\n",
       "      <td>718.788917</td>\n",
       "      <td>30.157510</td>\n",
       "    </tr>\n",
       "    <tr>\n",
       "      <th>2</th>\n",
       "      <td>Afghanistan</td>\n",
       "      <td>AFG</td>\n",
       "      <td>2002</td>\n",
       "      <td>38.627892</td>\n",
       "      <td>40.717968</td>\n",
       "      <td>13.670101</td>\n",
       "      <td>NaN</td>\n",
       "      <td>3.854235e+09</td>\n",
       "      <td>9.443391</td>\n",
       "      <td>NaN</td>\n",
       "      <td>...</td>\n",
       "      <td>21000256.0</td>\n",
       "      <td>652860.0</td>\n",
       "      <td>Asia</td>\n",
       "      <td>NaN</td>\n",
       "      <td>NaN</td>\n",
       "      <td>5.268779e+08</td>\n",
       "      <td>3.639705e+08</td>\n",
       "      <td>NaN</td>\n",
       "      <td>183.532775</td>\n",
       "      <td>32.166553</td>\n",
       "    </tr>\n",
       "    <tr>\n",
       "      <th>3</th>\n",
       "      <td>Afghanistan</td>\n",
       "      <td>AFG</td>\n",
       "      <td>2003</td>\n",
       "      <td>37.418855</td>\n",
       "      <td>40.717968</td>\n",
       "      <td>13.670101</td>\n",
       "      <td>NaN</td>\n",
       "      <td>4.539497e+09</td>\n",
       "      <td>8.941258</td>\n",
       "      <td>NaN</td>\n",
       "      <td>...</td>\n",
       "      <td>22645130.0</td>\n",
       "      <td>652860.0</td>\n",
       "      <td>Asia</td>\n",
       "      <td>NaN</td>\n",
       "      <td>NaN</td>\n",
       "      <td>6.205538e+08</td>\n",
       "      <td>4.058881e+08</td>\n",
       "      <td>NaN</td>\n",
       "      <td>200.462376</td>\n",
       "      <td>34.686043</td>\n",
       "    </tr>\n",
       "    <tr>\n",
       "      <th>4</th>\n",
       "      <td>Afghanistan</td>\n",
       "      <td>AFG</td>\n",
       "      <td>2004</td>\n",
       "      <td>29.721067</td>\n",
       "      <td>40.717968</td>\n",
       "      <td>13.670101</td>\n",
       "      <td>NaN</td>\n",
       "      <td>5.220825e+09</td>\n",
       "      <td>9.808474</td>\n",
       "      <td>NaN</td>\n",
       "      <td>...</td>\n",
       "      <td>23553551.0</td>\n",
       "      <td>652860.0</td>\n",
       "      <td>Asia</td>\n",
       "      <td>NaN</td>\n",
       "      <td>NaN</td>\n",
       "      <td>7.136921e+08</td>\n",
       "      <td>5.120832e+08</td>\n",
       "      <td>NaN</td>\n",
       "      <td>221.657662</td>\n",
       "      <td>36.077491</td>\n",
       "    </tr>\n",
       "  </tbody>\n",
       "</table>\n",
       "<p>5 rows × 25 columns</p>\n",
       "</div>"
      ],
      "text/plain": [
       "  Country Name Country Code  Year  Agriculture (% GDP)  \\\n",
       "0  Afghanistan          AFG  2000            27.501127   \n",
       "1  Afghanistan          AFG  2001            27.501127   \n",
       "2  Afghanistan          AFG  2002            38.627892   \n",
       "3  Afghanistan          AFG  2003            37.418855   \n",
       "4  Afghanistan          AFG  2004            29.721067   \n",
       "\n",
       "   Ease of Doing Business  Education Expenditure (% GDP)  Export (% GDP)  \\\n",
       "0               40.717968                      13.670101             NaN   \n",
       "1               40.717968                      13.670101             NaN   \n",
       "2               40.717968                      13.670101             NaN   \n",
       "3               40.717968                      13.670101             NaN   \n",
       "4               40.717968                      13.670101             NaN   \n",
       "\n",
       "            GDP  Health Expenditure (% GDP)  Import (% GDP)  ...  Population  \\\n",
       "0  1.415197e+10                   10.902580             NaN  ...  19542982.0   \n",
       "1  1.415197e+10                   10.902580             NaN  ...  19688632.0   \n",
       "2  3.854235e+09                    9.443391             NaN  ...  21000256.0   \n",
       "3  4.539497e+09                    8.941258             NaN  ...  22645130.0   \n",
       "4  5.220825e+09                    9.808474             NaN  ...  23553551.0   \n",
       "\n",
       "       Land  Continent Name  Export  Import  Education Expenditure  \\\n",
       "0  652860.0            Asia     NaN     NaN           1.934589e+09   \n",
       "1  652860.0            Asia     NaN     NaN           1.934589e+09   \n",
       "2  652860.0            Asia     NaN     NaN           5.268779e+08   \n",
       "3  652860.0            Asia     NaN     NaN           6.205538e+08   \n",
       "4  652860.0            Asia     NaN     NaN           7.136921e+08   \n",
       "\n",
       "   Health Expenditure Net Trade  GDP Per Capita  Population Density  \n",
       "0        1.542930e+09       NaN      724.145910           29.934415  \n",
       "1        1.542930e+09       NaN      718.788917           30.157510  \n",
       "2        3.639705e+08       NaN      183.532775           32.166553  \n",
       "3        4.058881e+08       NaN      200.462376           34.686043  \n",
       "4        5.120832e+08       NaN      221.657662           36.077491  \n",
       "\n",
       "[5 rows x 25 columns]"
      ]
     },
     "execution_count": 23,
     "metadata": {},
     "output_type": "execute_result"
    }
   ],
   "source": [
    "countries_df = pd.read_csv(\"dataset/Countries_World_Bank_Data.csv\")\n",
    "countries_df.head()"
   ]
  },
  {
   "cell_type": "code",
   "execution_count": 24,
   "metadata": {},
   "outputs": [
    {
     "data": {
      "text/plain": [
       "Country Name                        0\n",
       "Country Code                        0\n",
       "Year                                0\n",
       "Agriculture (% GDP)               276\n",
       "Ease of Doing Business            598\n",
       "Education Expenditure (% GDP)     368\n",
       "Export (% GDP)                    460\n",
       "GDP                                69\n",
       "Health Expenditure (% GDP)        575\n",
       "Import (% GDP)                    460\n",
       "Industry (% GDP)                  253\n",
       "Inflation Rate                    552\n",
       "R&D                              1518\n",
       "Service (% GDP)                   299\n",
       "Unemployment                      667\n",
       "Population                          0\n",
       "Land                                0\n",
       "Continent Name                      0\n",
       "Export                            460\n",
       "Import                            460\n",
       "Education Expenditure             414\n",
       "Health Expenditure                575\n",
       "Net Trade                         460\n",
       "GDP Per Capita                     69\n",
       "Population Density                  0\n",
       "dtype: int64"
      ]
     },
     "execution_count": 24,
     "metadata": {},
     "output_type": "execute_result"
    }
   ],
   "source": [
    "countries_df.isnull().sum()"
   ]
  },
  {
   "cell_type": "code",
   "execution_count": 25,
   "metadata": {},
   "outputs": [
    {
     "data": {
      "text/plain": [
       "Country Name                      object\n",
       "Country Code                      object\n",
       "Year                               int64\n",
       "Agriculture (% GDP)              float64\n",
       "Ease of Doing Business           float64\n",
       "Education Expenditure (% GDP)    float64\n",
       "Export (% GDP)                   float64\n",
       "GDP                              float64\n",
       "Health Expenditure (% GDP)       float64\n",
       "Import (% GDP)                   float64\n",
       "Industry (% GDP)                 float64\n",
       "Inflation Rate                   float64\n",
       "R&D                              float64\n",
       "Service (% GDP)                  float64\n",
       "Unemployment                     float64\n",
       "Population                       float64\n",
       "Land                             float64\n",
       "Continent Name                    object\n",
       "Export                           float64\n",
       "Import                           float64\n",
       "Education Expenditure            float64\n",
       "Health Expenditure               float64\n",
       "Net Trade                        float64\n",
       "GDP Per Capita                   float64\n",
       "Population Density               float64\n",
       "dtype: object"
      ]
     },
     "execution_count": 25,
     "metadata": {},
     "output_type": "execute_result"
    }
   ],
   "source": [
    "countries_df.dtypes"
   ]
  },
  {
   "cell_type": "code",
   "execution_count": 26,
   "metadata": {},
   "outputs": [
    {
     "data": {
      "text/plain": [
       "(5106, 25)"
      ]
     },
     "execution_count": 26,
     "metadata": {},
     "output_type": "execute_result"
    }
   ],
   "source": [
    "countries_df.shape"
   ]
  },
  {
   "cell_type": "code",
   "execution_count": 27,
   "metadata": {},
   "outputs": [
    {
     "data": {
      "text/html": [
       "<div>\n",
       "<style scoped>\n",
       "    .dataframe tbody tr th:only-of-type {\n",
       "        vertical-align: middle;\n",
       "    }\n",
       "\n",
       "    .dataframe tbody tr th {\n",
       "        vertical-align: top;\n",
       "    }\n",
       "\n",
       "    .dataframe thead th {\n",
       "        text-align: right;\n",
       "    }\n",
       "</style>\n",
       "<table border=\"1\" class=\"dataframe\">\n",
       "  <thead>\n",
       "    <tr style=\"text-align: right;\">\n",
       "      <th></th>\n",
       "      <th>Country Name</th>\n",
       "      <th>Year</th>\n",
       "      <th>GDP</th>\n",
       "      <th>Population</th>\n",
       "      <th>Health Expenditure</th>\n",
       "      <th>GDP Per Capita</th>\n",
       "      <th>Population Density</th>\n",
       "    </tr>\n",
       "  </thead>\n",
       "  <tbody>\n",
       "    <tr>\n",
       "      <th>0</th>\n",
       "      <td>Afghanistan</td>\n",
       "      <td>2000</td>\n",
       "      <td>1.415197e+10</td>\n",
       "      <td>19542982.0</td>\n",
       "      <td>1.542930e+09</td>\n",
       "      <td>724.145910</td>\n",
       "      <td>29.934415</td>\n",
       "    </tr>\n",
       "    <tr>\n",
       "      <th>1</th>\n",
       "      <td>Afghanistan</td>\n",
       "      <td>2001</td>\n",
       "      <td>1.415197e+10</td>\n",
       "      <td>19688632.0</td>\n",
       "      <td>1.542930e+09</td>\n",
       "      <td>718.788917</td>\n",
       "      <td>30.157510</td>\n",
       "    </tr>\n",
       "    <tr>\n",
       "      <th>2</th>\n",
       "      <td>Afghanistan</td>\n",
       "      <td>2002</td>\n",
       "      <td>3.854235e+09</td>\n",
       "      <td>21000256.0</td>\n",
       "      <td>3.639705e+08</td>\n",
       "      <td>183.532775</td>\n",
       "      <td>32.166553</td>\n",
       "    </tr>\n",
       "    <tr>\n",
       "      <th>3</th>\n",
       "      <td>Afghanistan</td>\n",
       "      <td>2003</td>\n",
       "      <td>4.539497e+09</td>\n",
       "      <td>22645130.0</td>\n",
       "      <td>4.058881e+08</td>\n",
       "      <td>200.462376</td>\n",
       "      <td>34.686043</td>\n",
       "    </tr>\n",
       "    <tr>\n",
       "      <th>4</th>\n",
       "      <td>Afghanistan</td>\n",
       "      <td>2004</td>\n",
       "      <td>5.220825e+09</td>\n",
       "      <td>23553551.0</td>\n",
       "      <td>5.120832e+08</td>\n",
       "      <td>221.657662</td>\n",
       "      <td>36.077491</td>\n",
       "    </tr>\n",
       "  </tbody>\n",
       "</table>\n",
       "</div>"
      ],
      "text/plain": [
       "  Country Name  Year           GDP  Population  Health Expenditure  \\\n",
       "0  Afghanistan  2000  1.415197e+10  19542982.0        1.542930e+09   \n",
       "1  Afghanistan  2001  1.415197e+10  19688632.0        1.542930e+09   \n",
       "2  Afghanistan  2002  3.854235e+09  21000256.0        3.639705e+08   \n",
       "3  Afghanistan  2003  4.539497e+09  22645130.0        4.058881e+08   \n",
       "4  Afghanistan  2004  5.220825e+09  23553551.0        5.120832e+08   \n",
       "\n",
       "   GDP Per Capita  Population Density  \n",
       "0      724.145910           29.934415  \n",
       "1      718.788917           30.157510  \n",
       "2      183.532775           32.166553  \n",
       "3      200.462376           34.686043  \n",
       "4      221.657662           36.077491  "
      ]
     },
     "execution_count": 27,
     "metadata": {},
     "output_type": "execute_result"
    }
   ],
   "source": [
    "# The following features will be dropped as they do not relate to te task\n",
    "countries_df.drop([\"Country Code\", \"Agriculture (% GDP)\", \"Ease of Doing Business\", \"Education Expenditure (% GDP)\",\n",
    "                  \"Export (% GDP)\", \"Health Expenditure (% GDP)\", \"Import (% GDP)\", \"Industry (% GDP)\", \"Inflation Rate\", \"R&D\", \"Service (% GDP)\",\n",
    "                  \"Unemployment\", \"Land\", \"Continent Name\", \"Export\", \"Import\", \"Education Expenditure\", \"Net Trade\"], axis=1, inplace=True)\n",
    "\n",
    "countries_df.head()"
   ]
  },
  {
   "cell_type": "code",
   "execution_count": 28,
   "metadata": {},
   "outputs": [
    {
     "data": {
      "text/plain": [
       "Country Name           object\n",
       "Year                    int64\n",
       "GDP                   float64\n",
       "Population            float64\n",
       "Health Expenditure    float64\n",
       "GDP Per Capita        float64\n",
       "Population Density    float64\n",
       "dtype: object"
      ]
     },
     "execution_count": 28,
     "metadata": {},
     "output_type": "execute_result"
    }
   ],
   "source": [
    "countries_df.dtypes"
   ]
  },
  {
   "cell_type": "code",
   "execution_count": 29,
   "metadata": {},
   "outputs": [
    {
     "data": {
      "text/plain": [
       "Country Name            0\n",
       "Year                    0\n",
       "GDP                    69\n",
       "Population              0\n",
       "Health Expenditure    575\n",
       "GDP Per Capita         69\n",
       "Population Density      0\n",
       "dtype: int64"
      ]
     },
     "execution_count": 29,
     "metadata": {},
     "output_type": "execute_result"
    }
   ],
   "source": [
    "countries_df.isnull().sum()"
   ]
  },
  {
   "cell_type": "code",
   "execution_count": 30,
   "metadata": {},
   "outputs": [
    {
     "data": {
      "text/plain": [
       "Country Name          0\n",
       "Year                  0\n",
       "GDP                   0\n",
       "Population            0\n",
       "Health Expenditure    0\n",
       "GDP Per Capita        0\n",
       "Population Density    0\n",
       "dtype: int64"
      ]
     },
     "execution_count": 30,
     "metadata": {},
     "output_type": "execute_result"
    }
   ],
   "source": [
    "# Missing values are duly handled\n",
    "columns_to_fill = ['GDP', 'Health Expenditure', 'GDP Per Capita']\n",
    "\n",
    "countries_df[columns_to_fill] = countries_df[columns_to_fill].fillna(countries_df[columns_to_fill].mean())\n",
    "countries_df.isnull().sum()"
   ]
  },
  {
   "cell_type": "code",
   "execution_count": 31,
   "metadata": {},
   "outputs": [
    {
     "data": {
      "text/html": [
       "<div>\n",
       "<style scoped>\n",
       "    .dataframe tbody tr th:only-of-type {\n",
       "        vertical-align: middle;\n",
       "    }\n",
       "\n",
       "    .dataframe tbody tr th {\n",
       "        vertical-align: top;\n",
       "    }\n",
       "\n",
       "    .dataframe thead th {\n",
       "        text-align: right;\n",
       "    }\n",
       "</style>\n",
       "<table border=\"1\" class=\"dataframe\">\n",
       "  <thead>\n",
       "    <tr style=\"text-align: right;\">\n",
       "      <th></th>\n",
       "      <th>Country</th>\n",
       "      <th>Year</th>\n",
       "      <th>GDP</th>\n",
       "      <th>Population</th>\n",
       "      <th>Health Expenditure</th>\n",
       "      <th>GDP Per Capita</th>\n",
       "      <th>Population Density</th>\n",
       "    </tr>\n",
       "  </thead>\n",
       "  <tbody>\n",
       "    <tr>\n",
       "      <th>0</th>\n",
       "      <td>Afghanistan</td>\n",
       "      <td>2000</td>\n",
       "      <td>1.415197e+10</td>\n",
       "      <td>19542982.0</td>\n",
       "      <td>1.542930e+09</td>\n",
       "      <td>724.145910</td>\n",
       "      <td>29.934415</td>\n",
       "    </tr>\n",
       "    <tr>\n",
       "      <th>1</th>\n",
       "      <td>Afghanistan</td>\n",
       "      <td>2001</td>\n",
       "      <td>1.415197e+10</td>\n",
       "      <td>19688632.0</td>\n",
       "      <td>1.542930e+09</td>\n",
       "      <td>718.788917</td>\n",
       "      <td>30.157510</td>\n",
       "    </tr>\n",
       "    <tr>\n",
       "      <th>2</th>\n",
       "      <td>Afghanistan</td>\n",
       "      <td>2002</td>\n",
       "      <td>3.854235e+09</td>\n",
       "      <td>21000256.0</td>\n",
       "      <td>3.639705e+08</td>\n",
       "      <td>183.532775</td>\n",
       "      <td>32.166553</td>\n",
       "    </tr>\n",
       "    <tr>\n",
       "      <th>3</th>\n",
       "      <td>Afghanistan</td>\n",
       "      <td>2003</td>\n",
       "      <td>4.539497e+09</td>\n",
       "      <td>22645130.0</td>\n",
       "      <td>4.058881e+08</td>\n",
       "      <td>200.462376</td>\n",
       "      <td>34.686043</td>\n",
       "    </tr>\n",
       "    <tr>\n",
       "      <th>4</th>\n",
       "      <td>Afghanistan</td>\n",
       "      <td>2004</td>\n",
       "      <td>5.220825e+09</td>\n",
       "      <td>23553551.0</td>\n",
       "      <td>5.120832e+08</td>\n",
       "      <td>221.657662</td>\n",
       "      <td>36.077491</td>\n",
       "    </tr>\n",
       "  </tbody>\n",
       "</table>\n",
       "</div>"
      ],
      "text/plain": [
       "       Country  Year           GDP  Population  Health Expenditure  \\\n",
       "0  Afghanistan  2000  1.415197e+10  19542982.0        1.542930e+09   \n",
       "1  Afghanistan  2001  1.415197e+10  19688632.0        1.542930e+09   \n",
       "2  Afghanistan  2002  3.854235e+09  21000256.0        3.639705e+08   \n",
       "3  Afghanistan  2003  4.539497e+09  22645130.0        4.058881e+08   \n",
       "4  Afghanistan  2004  5.220825e+09  23553551.0        5.120832e+08   \n",
       "\n",
       "   GDP Per Capita  Population Density  \n",
       "0      724.145910           29.934415  \n",
       "1      718.788917           30.157510  \n",
       "2      183.532775           32.166553  \n",
       "3      200.462376           34.686043  \n",
       "4      221.657662           36.077491  "
      ]
     },
     "execution_count": 31,
     "metadata": {},
     "output_type": "execute_result"
    }
   ],
   "source": [
    "# Column is renamed to avoid merging errors\n",
    "\n",
    "countries_df.rename(columns={'Country Name': 'Country'}, inplace=True)\n",
    "countries_df.head()"
   ]
  },
  {
   "cell_type": "code",
   "execution_count": 32,
   "metadata": {},
   "outputs": [
    {
     "data": {
      "text/html": [
       "<div>\n",
       "<style scoped>\n",
       "    .dataframe tbody tr th:only-of-type {\n",
       "        vertical-align: middle;\n",
       "    }\n",
       "\n",
       "    .dataframe tbody tr th {\n",
       "        vertical-align: top;\n",
       "    }\n",
       "\n",
       "    .dataframe thead th {\n",
       "        text-align: right;\n",
       "    }\n",
       "</style>\n",
       "<table border=\"1\" class=\"dataframe\">\n",
       "  <thead>\n",
       "    <tr style=\"text-align: right;\">\n",
       "      <th></th>\n",
       "      <th>Country</th>\n",
       "      <th>Health posts</th>\n",
       "      <th>Health centers</th>\n",
       "      <th>Rural/District hospitals</th>\n",
       "      <th>Provincial hospitals</th>\n",
       "      <th>Specialized Hospitals</th>\n",
       "      <th>Hospitals</th>\n",
       "      <th>Year</th>\n",
       "      <th>Total_hf_densities</th>\n",
       "      <th>Region</th>\n",
       "      <th>GDP</th>\n",
       "      <th>Population</th>\n",
       "      <th>Health Expenditure</th>\n",
       "      <th>GDP Per Capita</th>\n",
       "      <th>Population Density</th>\n",
       "    </tr>\n",
       "  </thead>\n",
       "  <tbody>\n",
       "    <tr>\n",
       "      <th>0</th>\n",
       "      <td>Afghanistan</td>\n",
       "      <td>2.950000</td>\n",
       "      <td>1.220000</td>\n",
       "      <td>0.180000</td>\n",
       "      <td>0.10</td>\n",
       "      <td>0.09</td>\n",
       "      <td>0.370000</td>\n",
       "      <td>2013</td>\n",
       "      <td>4.910000</td>\n",
       "      <td>Asia</td>\n",
       "      <td>2.056449e+10</td>\n",
       "      <td>31541209.0</td>\n",
       "      <td>1.810901e+09</td>\n",
       "      <td>651.987862</td>\n",
       "      <td>48.312363</td>\n",
       "    </tr>\n",
       "    <tr>\n",
       "      <th>1</th>\n",
       "      <td>Afghanistan</td>\n",
       "      <td>2.870000</td>\n",
       "      <td>1.190000</td>\n",
       "      <td>0.180000</td>\n",
       "      <td>0.10</td>\n",
       "      <td>0.08</td>\n",
       "      <td>2.235401</td>\n",
       "      <td>2010</td>\n",
       "      <td>6.655401</td>\n",
       "      <td>Asia</td>\n",
       "      <td>1.563384e+10</td>\n",
       "      <td>28189672.0</td>\n",
       "      <td>1.339769e+09</td>\n",
       "      <td>554.594735</td>\n",
       "      <td>43.178740</td>\n",
       "    </tr>\n",
       "    <tr>\n",
       "      <th>2</th>\n",
       "      <td>Albania</td>\n",
       "      <td>13.080000</td>\n",
       "      <td>7.032648</td>\n",
       "      <td>0.720000</td>\n",
       "      <td>0.35</td>\n",
       "      <td>0.28</td>\n",
       "      <td>1.360000</td>\n",
       "      <td>2013</td>\n",
       "      <td>22.822648</td>\n",
       "      <td>Europe</td>\n",
       "      <td>1.277622e+10</td>\n",
       "      <td>2895092.0</td>\n",
       "      <td>8.013688e+08</td>\n",
       "      <td>4413.063397</td>\n",
       "      <td>100.698852</td>\n",
       "    </tr>\n",
       "    <tr>\n",
       "      <th>3</th>\n",
       "      <td>Albania</td>\n",
       "      <td>12.950000</td>\n",
       "      <td>7.032648</td>\n",
       "      <td>0.720000</td>\n",
       "      <td>0.34</td>\n",
       "      <td>0.28</td>\n",
       "      <td>2.235401</td>\n",
       "      <td>2010</td>\n",
       "      <td>23.558050</td>\n",
       "      <td>Europe</td>\n",
       "      <td>1.192693e+10</td>\n",
       "      <td>2913021.0</td>\n",
       "      <td>7.441204e+08</td>\n",
       "      <td>4094.349699</td>\n",
       "      <td>101.322470</td>\n",
       "    </tr>\n",
       "    <tr>\n",
       "      <th>4</th>\n",
       "      <td>Angola</td>\n",
       "      <td>22.120991</td>\n",
       "      <td>7.032648</td>\n",
       "      <td>1.188238</td>\n",
       "      <td>0.00</td>\n",
       "      <td>0.00</td>\n",
       "      <td>2.235401</td>\n",
       "      <td>2010</td>\n",
       "      <td>32.577279</td>\n",
       "      <td>Africa</td>\n",
       "      <td>8.169953e+10</td>\n",
       "      <td>23364185.0</td>\n",
       "      <td>2.201884e+09</td>\n",
       "      <td>3496.784796</td>\n",
       "      <td>18.740824</td>\n",
       "    </tr>\n",
       "  </tbody>\n",
       "</table>\n",
       "</div>"
      ],
      "text/plain": [
       "       Country  Health posts  Health centers  Rural/District hospitals  \\\n",
       "0  Afghanistan      2.950000        1.220000                  0.180000   \n",
       "1  Afghanistan      2.870000        1.190000                  0.180000   \n",
       "2      Albania     13.080000        7.032648                  0.720000   \n",
       "3      Albania     12.950000        7.032648                  0.720000   \n",
       "4       Angola     22.120991        7.032648                  1.188238   \n",
       "\n",
       "   Provincial hospitals  Specialized Hospitals  Hospitals  Year  \\\n",
       "0                  0.10                   0.09   0.370000  2013   \n",
       "1                  0.10                   0.08   2.235401  2010   \n",
       "2                  0.35                   0.28   1.360000  2013   \n",
       "3                  0.34                   0.28   2.235401  2010   \n",
       "4                  0.00                   0.00   2.235401  2010   \n",
       "\n",
       "   Total_hf_densities  Region           GDP  Population  Health Expenditure  \\\n",
       "0            4.910000    Asia  2.056449e+10  31541209.0        1.810901e+09   \n",
       "1            6.655401    Asia  1.563384e+10  28189672.0        1.339769e+09   \n",
       "2           22.822648  Europe  1.277622e+10   2895092.0        8.013688e+08   \n",
       "3           23.558050  Europe  1.192693e+10   2913021.0        7.441204e+08   \n",
       "4           32.577279  Africa  8.169953e+10  23364185.0        2.201884e+09   \n",
       "\n",
       "   GDP Per Capita  Population Density  \n",
       "0      651.987862           48.312363  \n",
       "1      554.594735           43.178740  \n",
       "2     4413.063397          100.698852  \n",
       "3     4094.349699          101.322470  \n",
       "4     3496.784796           18.740824  "
      ]
     },
     "execution_count": 32,
     "metadata": {},
     "output_type": "execute_result"
    }
   ],
   "source": [
    "# Datatypes for Country and Year in both dataframes are of same type (object and int64 respectively)\n",
    "# so there is no need for conversion before merging.\n",
    "\n",
    "health_df = df.copy()\n",
    "if 'Country' in df.columns and 'Country' in countries_df.columns:\n",
    "    health_df = df.copy()\n",
    "    health_df = pd.merge(health_df, countries_df, on=['Country', 'Year'], how='inner')\n",
    "    health_df.head()\n",
    "else:\n",
    "    print(\"Column 'Country' not found in one or both DataFrames.\")\n",
    "\n",
    "health_df.head()"
   ]
  },
  {
   "cell_type": "code",
   "execution_count": 33,
   "metadata": {},
   "outputs": [
    {
     "data": {
      "text/plain": [
       "(257, 15)"
      ]
     },
     "execution_count": 33,
     "metadata": {},
     "output_type": "execute_result"
    }
   ],
   "source": [
    "health_df.shape"
   ]
  },
  {
   "cell_type": "code",
   "execution_count": 34,
   "metadata": {},
   "outputs": [],
   "source": [
    "df = health_df.copy()"
   ]
  },
  {
   "cell_type": "code",
   "execution_count": 35,
   "metadata": {
    "id": "zgHktmziAaGt"
   },
   "outputs": [],
   "source": [
    "# store clean data\n",
    "df.to_csv('dataset/cleaned_WHO_Infrastructure.csv', index=False)"
   ]
  },
  {
   "cell_type": "markdown",
   "metadata": {
    "id": "g6_5KttWBHDA"
   },
   "source": [
    "\n",
    "Summary Statistics"
   ]
  },
  {
   "cell_type": "code",
   "execution_count": 36,
   "metadata": {
    "colab": {
     "base_uri": "https://localhost:8080/",
     "height": 300
    },
    "id": "AIvbDi7yAaJ6",
    "outputId": "caacba03-f5d4-46d5-c6b1-cfa9fb624f25"
   },
   "outputs": [
    {
     "data": {
      "text/html": [
       "<div>\n",
       "<style scoped>\n",
       "    .dataframe tbody tr th:only-of-type {\n",
       "        vertical-align: middle;\n",
       "    }\n",
       "\n",
       "    .dataframe tbody tr th {\n",
       "        vertical-align: top;\n",
       "    }\n",
       "\n",
       "    .dataframe thead th {\n",
       "        text-align: right;\n",
       "    }\n",
       "</style>\n",
       "<table border=\"1\" class=\"dataframe\">\n",
       "  <thead>\n",
       "    <tr style=\"text-align: right;\">\n",
       "      <th></th>\n",
       "      <th>Health posts</th>\n",
       "      <th>Health centers</th>\n",
       "      <th>Rural/District hospitals</th>\n",
       "      <th>Provincial hospitals</th>\n",
       "      <th>Specialized Hospitals</th>\n",
       "      <th>Hospitals</th>\n",
       "      <th>Year</th>\n",
       "      <th>Total_hf_densities</th>\n",
       "      <th>GDP</th>\n",
       "      <th>Population</th>\n",
       "      <th>Health Expenditure</th>\n",
       "      <th>GDP Per Capita</th>\n",
       "      <th>Population Density</th>\n",
       "    </tr>\n",
       "  </thead>\n",
       "  <tbody>\n",
       "    <tr>\n",
       "      <th>count</th>\n",
       "      <td>257.000000</td>\n",
       "      <td>257.000000</td>\n",
       "      <td>257.000000</td>\n",
       "      <td>257.000000</td>\n",
       "      <td>257.000000</td>\n",
       "      <td>257.000000</td>\n",
       "      <td>257.000000</td>\n",
       "      <td>257.000000</td>\n",
       "      <td>2.570000e+02</td>\n",
       "      <td>2.570000e+02</td>\n",
       "      <td>2.570000e+02</td>\n",
       "      <td>257.000000</td>\n",
       "      <td>257.000000</td>\n",
       "    </tr>\n",
       "    <tr>\n",
       "      <th>mean</th>\n",
       "      <td>21.992671</td>\n",
       "      <td>6.635832</td>\n",
       "      <td>1.173857</td>\n",
       "      <td>0.888754</td>\n",
       "      <td>1.495858</td>\n",
       "      <td>2.273050</td>\n",
       "      <td>2011.486381</td>\n",
       "      <td>34.460023</td>\n",
       "      <td>1.586182e+11</td>\n",
       "      <td>2.337200e+07</td>\n",
       "      <td>1.028143e+10</td>\n",
       "      <td>11838.734291</td>\n",
       "      <td>200.702355</td>\n",
       "    </tr>\n",
       "    <tr>\n",
       "      <th>std</th>\n",
       "      <td>34.835357</td>\n",
       "      <td>15.680199</td>\n",
       "      <td>2.544778</td>\n",
       "      <td>1.626669</td>\n",
       "      <td>14.112772</td>\n",
       "      <td>3.681671</td>\n",
       "      <td>1.508054</td>\n",
       "      <td>43.559597</td>\n",
       "      <td>4.991976e+11</td>\n",
       "      <td>9.000077e+07</td>\n",
       "      <td>3.198425e+10</td>\n",
       "      <td>21373.614800</td>\n",
       "      <td>667.444565</td>\n",
       "    </tr>\n",
       "    <tr>\n",
       "      <th>min</th>\n",
       "      <td>0.000000</td>\n",
       "      <td>0.000000</td>\n",
       "      <td>0.000000</td>\n",
       "      <td>0.000000</td>\n",
       "      <td>0.000000</td>\n",
       "      <td>0.000000</td>\n",
       "      <td>2010.000000</td>\n",
       "      <td>2.080000</td>\n",
       "      <td>3.876097e+07</td>\n",
       "      <td>1.024100e+04</td>\n",
       "      <td>5.695352e+06</td>\n",
       "      <td>222.660583</td>\n",
       "      <td>1.727821</td>\n",
       "    </tr>\n",
       "    <tr>\n",
       "      <th>25%</th>\n",
       "      <td>6.540000</td>\n",
       "      <td>0.700000</td>\n",
       "      <td>0.300000</td>\n",
       "      <td>0.110000</td>\n",
       "      <td>0.060000</td>\n",
       "      <td>1.250000</td>\n",
       "      <td>2010.000000</td>\n",
       "      <td>12.225401</td>\n",
       "      <td>6.555591e+09</td>\n",
       "      <td>1.331475e+06</td>\n",
       "      <td>3.122875e+08</td>\n",
       "      <td>1559.139050</td>\n",
       "      <td>32.472908</td>\n",
       "    </tr>\n",
       "    <tr>\n",
       "      <th>50%</th>\n",
       "      <td>14.510000</td>\n",
       "      <td>3.560000</td>\n",
       "      <td>0.640000</td>\n",
       "      <td>0.420000</td>\n",
       "      <td>0.150000</td>\n",
       "      <td>2.235401</td>\n",
       "      <td>2010.000000</td>\n",
       "      <td>26.134630</td>\n",
       "      <td>1.909102e+10</td>\n",
       "      <td>6.119379e+06</td>\n",
       "      <td>1.317424e+09</td>\n",
       "      <td>4702.915770</td>\n",
       "      <td>79.657365</td>\n",
       "    </tr>\n",
       "    <tr>\n",
       "      <th>75%</th>\n",
       "      <td>22.120991</td>\n",
       "      <td>7.032648</td>\n",
       "      <td>1.190000</td>\n",
       "      <td>0.806892</td>\n",
       "      <td>0.540000</td>\n",
       "      <td>2.235401</td>\n",
       "      <td>2013.000000</td>\n",
       "      <td>36.472648</td>\n",
       "      <td>7.416055e+10</td>\n",
       "      <td>1.664754e+07</td>\n",
       "      <td>4.051188e+09</td>\n",
       "      <td>12512.594127</td>\n",
       "      <td>138.157599</td>\n",
       "    </tr>\n",
       "    <tr>\n",
       "      <th>max</th>\n",
       "      <td>278.040000</td>\n",
       "      <td>144.660000</td>\n",
       "      <td>28.840000</td>\n",
       "      <td>11.300000</td>\n",
       "      <td>222.070000</td>\n",
       "      <td>56.450000</td>\n",
       "      <td>2014.000000</td>\n",
       "      <td>289.501926</td>\n",
       "      <td>6.087192e+12</td>\n",
       "      <td>1.337705e+09</td>\n",
       "      <td>2.575298e+11</td>\n",
       "      <td>185055.487412</td>\n",
       "      <td>7530.211994</td>\n",
       "    </tr>\n",
       "  </tbody>\n",
       "</table>\n",
       "</div>"
      ],
      "text/plain": [
       "       Health posts  Health centers  Rural/District hospitals  \\\n",
       "count    257.000000      257.000000                257.000000   \n",
       "mean      21.992671        6.635832                  1.173857   \n",
       "std       34.835357       15.680199                  2.544778   \n",
       "min        0.000000        0.000000                  0.000000   \n",
       "25%        6.540000        0.700000                  0.300000   \n",
       "50%       14.510000        3.560000                  0.640000   \n",
       "75%       22.120991        7.032648                  1.190000   \n",
       "max      278.040000      144.660000                 28.840000   \n",
       "\n",
       "       Provincial hospitals  Specialized Hospitals   Hospitals         Year  \\\n",
       "count            257.000000             257.000000  257.000000   257.000000   \n",
       "mean               0.888754               1.495858    2.273050  2011.486381   \n",
       "std                1.626669              14.112772    3.681671     1.508054   \n",
       "min                0.000000               0.000000    0.000000  2010.000000   \n",
       "25%                0.110000               0.060000    1.250000  2010.000000   \n",
       "50%                0.420000               0.150000    2.235401  2010.000000   \n",
       "75%                0.806892               0.540000    2.235401  2013.000000   \n",
       "max               11.300000             222.070000   56.450000  2014.000000   \n",
       "\n",
       "       Total_hf_densities           GDP    Population  Health Expenditure  \\\n",
       "count          257.000000  2.570000e+02  2.570000e+02        2.570000e+02   \n",
       "mean            34.460023  1.586182e+11  2.337200e+07        1.028143e+10   \n",
       "std             43.559597  4.991976e+11  9.000077e+07        3.198425e+10   \n",
       "min              2.080000  3.876097e+07  1.024100e+04        5.695352e+06   \n",
       "25%             12.225401  6.555591e+09  1.331475e+06        3.122875e+08   \n",
       "50%             26.134630  1.909102e+10  6.119379e+06        1.317424e+09   \n",
       "75%             36.472648  7.416055e+10  1.664754e+07        4.051188e+09   \n",
       "max            289.501926  6.087192e+12  1.337705e+09        2.575298e+11   \n",
       "\n",
       "       GDP Per Capita  Population Density  \n",
       "count      257.000000          257.000000  \n",
       "mean     11838.734291          200.702355  \n",
       "std      21373.614800          667.444565  \n",
       "min        222.660583            1.727821  \n",
       "25%       1559.139050           32.472908  \n",
       "50%       4702.915770           79.657365  \n",
       "75%      12512.594127          138.157599  \n",
       "max     185055.487412         7530.211994  "
      ]
     },
     "execution_count": 36,
     "metadata": {},
     "output_type": "execute_result"
    }
   ],
   "source": [
    "df.describe()"
   ]
  },
  {
   "cell_type": "code",
   "execution_count": 37,
   "metadata": {
    "colab": {
     "base_uri": "https://localhost:8080/",
     "height": 612
    },
    "id": "a2QkqzJ2-gfO",
    "outputId": "1966a80d-67a9-4ea2-eae1-c304b0ccd000"
   },
   "outputs": [
    {
     "data": {
      "image/png": "[encoded data removed]",
      "text/plain": [
       "<Figure size 720x576 with 2 Axes>"
      ]
     },
     "metadata": {
      "needs_background": "light"
     },
     "output_type": "display_data"
    }
   ],
   "source": [
    "# Let's take a look at the correlation between the numerical values\n",
    "corrmat = df.corr()\n",
    "top_corr_features = corrmat.index\n",
    "mask= np.triu(top_corr_features)\n",
    "plt.figure(figsize=(10,8))\n",
    "#plot heat map\n",
    "plt.title ('The correlation matrix')\n",
    "sns.heatmap(df[top_corr_features].corr(),annot=True, fmt='.2f', mask=mask, cmap='Oranges');"
   ]
  },
  {
   "cell_type": "markdown",
   "metadata": {
    "id": "59SenPwyJp74"
   },
   "source": [
    "The heatmap above shows that the variable **GDP Per Capita** is strongly correlated with the variables: **Health Expenditure** and **Total_hf_densities**. \n",
    "*Rural/District hospitals have some correlation with hospitals*\n",
    "\n",
    "This means that countries with higher GDP per capita tend to also have higher health expenditures and more healthcare facilities.\n",
    "The heatmap also shows that the variable **Population Density** is negatively correlated with the variable **Total_hf_densities**. \n",
    "This means that countries with higher population densities tend to have fewer healthcare facilities per capita.\n"
   ]
  },
  {
   "cell_type": "markdown",
   "metadata": {
    "id": "resChRpeKkYv"
   },
   "source": [
    "# Data Exploration"
   ]
  },
  {
   "cell_type": "code",
   "execution_count": 38,
   "metadata": {
    "colab": {
     "base_uri": "https://localhost:8080/"
    },
    "id": "_-VbLObbJo1K",
    "outputId": "4dcf5de9-e45d-4291-95c0-e351d29bc1ab"
   },
   "outputs": [
    {
     "data": {
      "text/plain": [
       "125"
      ]
     },
     "execution_count": 38,
     "metadata": {},
     "output_type": "execute_result"
    }
   ],
   "source": [
    "# Total number of countries\n",
    "df['Country'].nunique()"
   ]
  },
  {
   "cell_type": "code",
   "execution_count": 39,
   "metadata": {
    "colab": {
     "base_uri": "https://localhost:8080/",
     "height": 206
    },
    "id": "h2TDryJgHWZ9",
    "outputId": "325b3191-2813-4953-df79-70eb8f59fe8a"
   },
   "outputs": [
    {
     "data": {
      "text/html": [
       "<div>\n",
       "<style scoped>\n",
       "    .dataframe tbody tr th:only-of-type {\n",
       "        vertical-align: middle;\n",
       "    }\n",
       "\n",
       "    .dataframe tbody tr th {\n",
       "        vertical-align: top;\n",
       "    }\n",
       "\n",
       "    .dataframe thead th {\n",
       "        text-align: right;\n",
       "    }\n",
       "</style>\n",
       "<table border=\"1\" class=\"dataframe\">\n",
       "  <thead>\n",
       "    <tr style=\"text-align: right;\">\n",
       "      <th></th>\n",
       "      <th>Country</th>\n",
       "      <th>Health posts</th>\n",
       "      <th>Health centers</th>\n",
       "      <th>Rural/District hospitals</th>\n",
       "      <th>Provincial hospitals</th>\n",
       "      <th>Specialized Hospitals</th>\n",
       "      <th>Hospitals</th>\n",
       "      <th>Year</th>\n",
       "      <th>Total_hf_densities</th>\n",
       "      <th>Region</th>\n",
       "      <th>GDP</th>\n",
       "      <th>Population</th>\n",
       "      <th>Health Expenditure</th>\n",
       "      <th>GDP Per Capita</th>\n",
       "      <th>Population Density</th>\n",
       "    </tr>\n",
       "  </thead>\n",
       "  <tbody>\n",
       "    <tr>\n",
       "      <th>252</th>\n",
       "      <td>Vanuatu</td>\n",
       "      <td>125.18</td>\n",
       "      <td>16.27</td>\n",
       "      <td>1.67</td>\n",
       "      <td>0.42</td>\n",
       "      <td>0.42</td>\n",
       "      <td>2.235401</td>\n",
       "      <td>2010</td>\n",
       "      <td>146.195401</td>\n",
       "      <td>Oceania</td>\n",
       "      <td>6.707130e+08</td>\n",
       "      <td>245453.0</td>\n",
       "      <td>2.365310e+07</td>\n",
       "      <td>2732.551557</td>\n",
       "      <td>20.135603</td>\n",
       "    </tr>\n",
       "    <tr>\n",
       "      <th>253</th>\n",
       "      <td>Zambia</td>\n",
       "      <td>1.18</td>\n",
       "      <td>8.33</td>\n",
       "      <td>0.30</td>\n",
       "      <td>0.12</td>\n",
       "      <td>0.03</td>\n",
       "      <td>0.450000</td>\n",
       "      <td>2013</td>\n",
       "      <td>10.410000</td>\n",
       "      <td>Africa</td>\n",
       "      <td>2.803724e+10</td>\n",
       "      <td>15234976.0</td>\n",
       "      <td>1.315202e+09</td>\n",
       "      <td>1840.320553</td>\n",
       "      <td>20.242856</td>\n",
       "    </tr>\n",
       "    <tr>\n",
       "      <th>254</th>\n",
       "      <td>Zambia</td>\n",
       "      <td>1.31</td>\n",
       "      <td>9.25</td>\n",
       "      <td>0.33</td>\n",
       "      <td>0.14</td>\n",
       "      <td>0.04</td>\n",
       "      <td>2.235401</td>\n",
       "      <td>2010</td>\n",
       "      <td>13.305401</td>\n",
       "      <td>Africa</td>\n",
       "      <td>2.026556e+10</td>\n",
       "      <td>13792086.0</td>\n",
       "      <td>7.537361e+08</td>\n",
       "      <td>1469.361450</td>\n",
       "      <td>18.325675</td>\n",
       "    </tr>\n",
       "    <tr>\n",
       "      <th>255</th>\n",
       "      <td>Zimbabwe</td>\n",
       "      <td>0.00</td>\n",
       "      <td>9.41</td>\n",
       "      <td>0.37</td>\n",
       "      <td>0.08</td>\n",
       "      <td>0.08</td>\n",
       "      <td>0.520000</td>\n",
       "      <td>2013</td>\n",
       "      <td>10.460000</td>\n",
       "      <td>Africa</td>\n",
       "      <td>1.909102e+10</td>\n",
       "      <td>13555422.0</td>\n",
       "      <td>1.357258e+09</td>\n",
       "      <td>1408.367810</td>\n",
       "      <td>34.689891</td>\n",
       "    </tr>\n",
       "    <tr>\n",
       "      <th>256</th>\n",
       "      <td>Zimbabwe</td>\n",
       "      <td>0.00</td>\n",
       "      <td>10.59</td>\n",
       "      <td>0.41</td>\n",
       "      <td>0.09</td>\n",
       "      <td>0.09</td>\n",
       "      <td>2.235401</td>\n",
       "      <td>2010</td>\n",
       "      <td>13.415401</td>\n",
       "      <td>Africa</td>\n",
       "      <td>1.204166e+10</td>\n",
       "      <td>12839771.0</td>\n",
       "      <td>1.261464e+09</td>\n",
       "      <td>937.840340</td>\n",
       "      <td>32.858458</td>\n",
       "    </tr>\n",
       "  </tbody>\n",
       "</table>\n",
       "</div>"
      ],
      "text/plain": [
       "      Country  Health posts  Health centers  Rural/District hospitals  \\\n",
       "252   Vanuatu        125.18           16.27                      1.67   \n",
       "253    Zambia          1.18            8.33                      0.30   \n",
       "254    Zambia          1.31            9.25                      0.33   \n",
       "255  Zimbabwe          0.00            9.41                      0.37   \n",
       "256  Zimbabwe          0.00           10.59                      0.41   \n",
       "\n",
       "     Provincial hospitals  Specialized Hospitals  Hospitals  Year  \\\n",
       "252                  0.42                   0.42   2.235401  2010   \n",
       "253                  0.12                   0.03   0.450000  2013   \n",
       "254                  0.14                   0.04   2.235401  2010   \n",
       "255                  0.08                   0.08   0.520000  2013   \n",
       "256                  0.09                   0.09   2.235401  2010   \n",
       "\n",
       "     Total_hf_densities   Region           GDP  Population  \\\n",
       "252          146.195401  Oceania  6.707130e+08    245453.0   \n",
       "253           10.410000   Africa  2.803724e+10  15234976.0   \n",
       "254           13.305401   Africa  2.026556e+10  13792086.0   \n",
       "255           10.460000   Africa  1.909102e+10  13555422.0   \n",
       "256           13.415401   Africa  1.204166e+10  12839771.0   \n",
       "\n",
       "     Health Expenditure  GDP Per Capita  Population Density  \n",
       "252        2.365310e+07     2732.551557           20.135603  \n",
       "253        1.315202e+09     1840.320553           20.242856  \n",
       "254        7.537361e+08     1469.361450           18.325675  \n",
       "255        1.357258e+09     1408.367810           34.689891  \n",
       "256        1.261464e+09      937.840340           32.858458  "
      ]
     },
     "execution_count": 39,
     "metadata": {},
     "output_type": "execute_result"
    }
   ],
   "source": [
    "df.tail()"
   ]
  },
  {
   "cell_type": "code",
   "execution_count": 40,
   "metadata": {
    "colab": {
     "base_uri": "https://localhost:8080/",
     "height": 410
    },
    "id": "DtaUG7qfHWi-",
    "outputId": "cc55e85a-d49c-45fc-def6-290c40949abe"
   },
   "outputs": [
    {
     "data": {
      "image/png": "[encoded data removed]",
      "text/plain": [
       "<Figure size 504x288 with 1 Axes>"
      ]
     },
     "metadata": {
      "needs_background": "light"
     },
     "output_type": "display_data"
    }
   ],
   "source": [
    "# Total densities by country\n",
    "\n",
    "df1 = df.groupby('Country')['Total_hf_densities'].sum().reset_index()\n",
    "df1_sort = df1.sort_values(by = 'Total_hf_densities',ascending = False)\n",
    "top_10 = df1_sort.head(10)\n",
    "\n",
    "plt.figure(figsize = (7,4))\n",
    "sns.barplot(data = top_10, x = 'Total_hf_densities',y = 'Country',color = 'Green')\n",
    "plt.title ('Top 10 countries by total healthcare facility densities')\n",
    "plt.show()"
   ]
  },
  {
   "cell_type": "code",
   "execution_count": 41,
   "metadata": {
    "colab": {
     "base_uri": "https://localhost:8080/",
     "height": 410
    },
    "id": "HVNbdZltHWrD",
    "outputId": "fbf66c24-c30f-451d-d920-278a6215bd47"
   },
   "outputs": [
    {
     "data": {
      "image/png": "[encoded data removed]",
      "text/plain": [
       "<Figure size 504x288 with 1 Axes>"
      ]
     },
     "metadata": {
      "needs_background": "light"
     },
     "output_type": "display_data"
    }
   ],
   "source": [
    "# Least 10 countries by total densities\n",
    "df1_sort2 = df1.sort_values(by = 'Total_hf_densities',ascending = True)\n",
    "least_10 = df1_sort2.head(10)\n",
    "\n",
    "\n",
    "plt.figure(figsize = (7,4))\n",
    "sns.barplot(data = least_10, x = 'Total_hf_densities',y = 'Country',color = 'Red')\n",
    "plt.title ('Least 10 countries by densities')\n",
    "plt.show()"
   ]
  },
  {
   "cell_type": "code",
   "execution_count": 42,
   "metadata": {
    "colab": {
     "base_uri": "https://localhost:8080/",
     "height": 445
    },
    "id": "qcASGUobHWyL",
    "outputId": "000b91fe-267e-44d3-a096-fb78e5837ed2"
   },
   "outputs": [
    {
     "data": {
      "image/png": "[encoded data removed]",
      "text/plain": [
       "<Figure size 648x360 with 1 Axes>"
      ]
     },
     "metadata": {
      "needs_background": "light"
     },
     "output_type": "display_data"
    }
   ],
   "source": [
    "# Distribution of healthcare facilities over the years\n",
    "df2 = df.groupby('Year')['Total_hf_densities'].sum().reset_index()\n",
    "\n",
    "plt.figure (figsize = (9,5))\n",
    "plt.plot(df2['Year'],df2['Total_hf_densities'],linestyle = ':', marker = 'd')\n",
    "plt.locator_params(axis='x', integer=True)\n",
    "plt.show()"
   ]
  },
  {
   "cell_type": "code",
   "execution_count": 43,
   "metadata": {
    "colab": {
     "base_uri": "https://localhost:8080/",
     "height": 582
    },
    "id": "yM4RTMZqHW6o",
    "outputId": "c1b30f34-a769-495e-a53e-b88d0f47e118"
   },
   "outputs": [
    {
     "data": {
      "image/png": "[encoded data removed]",
      "text/plain": [
       "<Figure size 1440x432 with 2 Axes>"
      ]
     },
     "metadata": {
      "needs_background": "light"
     },
     "output_type": "display_data"
    }
   ],
   "source": [
    "# Top 5  countries by  density of specialized hospitals\n",
    "\n",
    "df3 = df.groupby('Country')['Specialized Hospitals'].sum().reset_index()\n",
    "df3_sort1 = df3.sort_values(by = 'Specialized Hospitals',ascending = False)\n",
    "top20_countries = df3_sort1.head(20)\n",
    "top20_countries\n",
    "\n",
    "\n",
    "df3_sort2 = df3.sort_values(by = 'Specialized Hospitals',ascending = True)\n",
    "least20_countries = df3_sort2.head(20)\n",
    "least20_countries\n",
    "\n",
    "plt.figure(figsize =(20,6))\n",
    "plt.subplot(1,2,1)\n",
    "sns.barplot(data = top20_countries, x = 'Specialized Hospitals', y = 'Country',color = 'Orange')\n",
    "plt.title('Top 20 countries with the highest density of specialized hospitals')\n",
    "plt.subplots_adjust(wspace = 0.5 , hspace = 0.5)\n",
    "plt.xticks(rotation=45, ha='right')\n",
    "\n",
    "\n",
    "plt.subplot(1,2,2)\n",
    "sns.barplot(data = least20_countries, x = 'Specialized Hospitals', y = 'Country',color = 'green')\n",
    "plt.title('Least 20 countries with the lowest density of specialized hospitals')\n",
    "plt.subplots_adjust(wspace = 0.5 , hspace = 0.5)\n",
    "plt.xticks(rotation=45, ha='right')\n",
    "plt.show()"
   ]
  },
  {
   "cell_type": "code",
   "execution_count": 44,
   "metadata": {
    "colab": {
     "base_uri": "https://localhost:8080/",
     "height": 677
    },
    "id": "x0j92LOqHXB0",
    "outputId": "c4ac5a73-7887-412f-e88f-1d961c16224d"
   },
   "outputs": [
    {
     "data": {
      "text/html": [
       "<div>\n",
       "<style scoped>\n",
       "    .dataframe tbody tr th:only-of-type {\n",
       "        vertical-align: middle;\n",
       "    }\n",
       "\n",
       "    .dataframe tbody tr th {\n",
       "        vertical-align: top;\n",
       "    }\n",
       "\n",
       "    .dataframe thead th {\n",
       "        text-align: right;\n",
       "    }\n",
       "</style>\n",
       "<table border=\"1\" class=\"dataframe\">\n",
       "  <thead>\n",
       "    <tr style=\"text-align: right;\">\n",
       "      <th></th>\n",
       "      <th>Country</th>\n",
       "      <th>Specialized Hospitals</th>\n",
       "    </tr>\n",
       "  </thead>\n",
       "  <tbody>\n",
       "    <tr>\n",
       "      <th>44</th>\n",
       "      <td>Grenada</td>\n",
       "      <td>0.00</td>\n",
       "    </tr>\n",
       "    <tr>\n",
       "      <th>74</th>\n",
       "      <td>Marshall Islands</td>\n",
       "      <td>0.00</td>\n",
       "    </tr>\n",
       "    <tr>\n",
       "      <th>2</th>\n",
       "      <td>Angola</td>\n",
       "      <td>0.00</td>\n",
       "    </tr>\n",
       "    <tr>\n",
       "      <th>61</th>\n",
       "      <td>Kiribati</td>\n",
       "      <td>0.00</td>\n",
       "    </tr>\n",
       "    <tr>\n",
       "      <th>32</th>\n",
       "      <td>Dominica</td>\n",
       "      <td>0.00</td>\n",
       "    </tr>\n",
       "    <tr>\n",
       "      <th>39</th>\n",
       "      <td>Fiji</td>\n",
       "      <td>0.00</td>\n",
       "    </tr>\n",
       "    <tr>\n",
       "      <th>24</th>\n",
       "      <td>China</td>\n",
       "      <td>0.00</td>\n",
       "    </tr>\n",
       "    <tr>\n",
       "      <th>99</th>\n",
       "      <td>San Marino</td>\n",
       "      <td>0.00</td>\n",
       "    </tr>\n",
       "    <tr>\n",
       "      <th>22</th>\n",
       "      <td>Chad</td>\n",
       "      <td>0.02</td>\n",
       "    </tr>\n",
       "    <tr>\n",
       "      <th>101</th>\n",
       "      <td>Saudi Arabia</td>\n",
       "      <td>0.02</td>\n",
       "    </tr>\n",
       "    <tr>\n",
       "      <th>119</th>\n",
       "      <td>Tuvalu</td>\n",
       "      <td>0.02</td>\n",
       "    </tr>\n",
       "    <tr>\n",
       "      <th>120</th>\n",
       "      <td>Uganda</td>\n",
       "      <td>0.02</td>\n",
       "    </tr>\n",
       "    <tr>\n",
       "      <th>35</th>\n",
       "      <td>Eritrea</td>\n",
       "      <td>0.04</td>\n",
       "    </tr>\n",
       "    <tr>\n",
       "      <th>60</th>\n",
       "      <td>Kenya</td>\n",
       "      <td>0.04</td>\n",
       "    </tr>\n",
       "    <tr>\n",
       "      <th>64</th>\n",
       "      <td>Liberia</td>\n",
       "      <td>0.05</td>\n",
       "    </tr>\n",
       "    <tr>\n",
       "      <th>69</th>\n",
       "      <td>Malawi</td>\n",
       "      <td>0.06</td>\n",
       "    </tr>\n",
       "    <tr>\n",
       "      <th>45</th>\n",
       "      <td>Guatemala</td>\n",
       "      <td>0.06</td>\n",
       "    </tr>\n",
       "    <tr>\n",
       "      <th>38</th>\n",
       "      <td>Ethiopia</td>\n",
       "      <td>0.06</td>\n",
       "    </tr>\n",
       "    <tr>\n",
       "      <th>108</th>\n",
       "      <td>South Africa</td>\n",
       "      <td>0.06</td>\n",
       "    </tr>\n",
       "    <tr>\n",
       "      <th>46</th>\n",
       "      <td>Guinea</td>\n",
       "      <td>0.06</td>\n",
       "    </tr>\n",
       "  </tbody>\n",
       "</table>\n",
       "</div>"
      ],
      "text/plain": [
       "              Country  Specialized Hospitals\n",
       "44            Grenada                   0.00\n",
       "74   Marshall Islands                   0.00\n",
       "2              Angola                   0.00\n",
       "61           Kiribati                   0.00\n",
       "32           Dominica                   0.00\n",
       "39               Fiji                   0.00\n",
       "24              China                   0.00\n",
       "99         San Marino                   0.00\n",
       "22               Chad                   0.02\n",
       "101      Saudi Arabia                   0.02\n",
       "119            Tuvalu                   0.02\n",
       "120            Uganda                   0.02\n",
       "35            Eritrea                   0.04\n",
       "60              Kenya                   0.04\n",
       "64            Liberia                   0.05\n",
       "69             Malawi                   0.06\n",
       "45          Guatemala                   0.06\n",
       "38           Ethiopia                   0.06\n",
       "108      South Africa                   0.06\n",
       "46             Guinea                   0.06"
      ]
     },
     "execution_count": 44,
     "metadata": {},
     "output_type": "execute_result"
    }
   ],
   "source": [
    "# Let's explore the least 5 countries too\n",
    "df3_sort2 = df3.sort_values(by = 'Specialized Hospitals',ascending = True)\n",
    "least5_countries = df3_sort2.head(5)\n",
    "least5_countries\n",
    "\n",
    "# Least 5 countries have no values, let's explore the least 10\n",
    "least10_countries = df3_sort2.head(10)\n",
    "least10_countries\n",
    "\n",
    "# least 15\n",
    "least20_countries = df3_sort2.head(20)\n",
    "least20_countries\n"
   ]
  },
  {
   "cell_type": "code",
   "execution_count": 45,
   "metadata": {
    "colab": {
     "base_uri": "https://localhost:8080/",
     "height": 582
    },
    "id": "IYWViKvMu8vr",
    "outputId": "a0777d0f-3659-40c7-e5ba-a6304bb33a33"
   },
   "outputs": [
    {
     "data": {
      "image/png": "[encoded data removed]",
      "text/plain": [
       "<Figure size 1296x432 with 2 Axes>"
      ]
     },
     "metadata": {
      "needs_background": "light"
     },
     "output_type": "display_data"
    }
   ],
   "source": [
    "# Top 20 countries with the highest density of district/rural hospitals\n",
    "\n",
    "df4 = df.groupby('Country')['Rural/District hospitals'].sum().reset_index()\n",
    "df4_sort1 = df4.sort_values(by = 'Rural/District hospitals',ascending = False)\n",
    "top20_countries1 = df4_sort1.head(20)\n",
    "top20_countries1\n",
    "\n",
    "df4_sort2 = df4.sort_values(by = 'Rural/District hospitals',ascending = True)\n",
    "least20_countries1 = df4_sort2.head(20)\n",
    "least20_countries1\n",
    "\n",
    "\n",
    "\n",
    "plt.figure(figsize =(18,6))\n",
    "\n",
    "plt.subplot(1,2,1)\n",
    "sns.barplot(data = top20_countries1, x = 'Rural/District hospitals', y = 'Country',color = 'brown')\n",
    "plt.title('Top 20 countries with the highest density of rural/district hospitals')\n",
    "plt.subplots_adjust(hspace = 0.5, wspace=0.5)\n",
    "plt.xticks(rotation=45, ha='right')\n",
    "\n",
    "plt.subplot(1,2,2)\n",
    "sns.barplot(data = least20_countries1, x = 'Rural/District hospitals', y = 'Country',color = 'blue')\n",
    "plt.title('Least 20 countries with the lowest density of rural/district hospitals')\n",
    "plt.subplots_adjust(hspace = 0.5, wspace=0.5)\n",
    "plt.xticks(rotation=45, ha='right')\n",
    "plt.show()\n"
   ]
  },
  {
   "cell_type": "code",
   "execution_count": 46,
   "metadata": {
    "colab": {
     "base_uri": "https://localhost:8080/",
     "height": 564
    },
    "id": "hrYa_ypWu9AW",
    "outputId": "989cc7f8-e5c4-4783-db6d-701bb309e860"
   },
   "outputs": [
    {
     "data": {
      "image/png": "[encoded data removed]",
      "text/plain": [
       "<Figure size 1296x432 with 2 Axes>"
      ]
     },
     "metadata": {
      "needs_background": "light"
     },
     "output_type": "display_data"
    }
   ],
   "source": [
    "# Top 5 countries with the highest density of health centers\n",
    "df5 = df.groupby('Country')['Health centers'].sum().reset_index()\n",
    "df5_sort1 = df5.sort_values(by = 'Health centers',ascending = False)\n",
    "top20_countries2 = df5_sort1.head(20)\n",
    "\n",
    "df5_sort2 = df5.sort_values(by = 'Health centers',ascending = True)\n",
    "least20_countries2 = df5_sort2.head(20)\n",
    "\n",
    "\n",
    "plt.figure(figsize =(18,6))\n",
    "plt.subplot(1,2,1)\n",
    "sns.barplot(data = top20_countries2, x = 'Health centers', y = 'Country',color = 'violet')\n",
    "plt.subplots_adjust(hspace = 0.5, wspace=0.5)\n",
    "plt.title('Top 20 countries with the highest density of health centers')\n",
    "\n",
    "plt.subplot(1,2,2)\n",
    "sns.barplot(data = least20_countries2, x = 'Health centers', y = 'Country',color = 'blue')\n",
    "plt.subplots_adjust(hspace = 0.5, wspace=0.5)\n",
    "plt.title('Least 20 countries with the lowest density of health centers')\n",
    "plt.show()"
   ]
  },
  {
   "cell_type": "code",
   "execution_count": 47,
   "metadata": {
    "colab": {
     "base_uri": "https://localhost:8080/",
     "height": 564
    },
    "id": "M9hezJLru9SK",
    "outputId": "e0e5c09a-3d5b-4699-d98a-de4c0208d508"
   },
   "outputs": [
    {
     "data": {
      "image/png": "[encoded data removed]",
      "text/plain": [
       "<Figure size 1296x432 with 2 Axes>"
      ]
     },
     "metadata": {
      "needs_background": "light"
     },
     "output_type": "display_data"
    }
   ],
   "source": [
    "# Top 20 countries with the highest density of health posts\n",
    "df6 = df.groupby('Country')['Health posts'].sum().reset_index()\n",
    "df6_sort1 = df6.sort_values(by = 'Health posts',ascending = False)\n",
    "top20_countries3 = df6_sort1.head(20)\n",
    "\n",
    "df6_sort2 = df6.sort_values(by = 'Health posts',ascending = True)\n",
    "least20_countries3 = df6_sort2.head(20)\n",
    "\n",
    "\n",
    "plt.figure(figsize =(18,6))\n",
    "plt.subplot(1,2,1)\n",
    "sns.barplot(data = top20_countries3, x = 'Health posts', y = 'Country',color = 'cyan')\n",
    "plt.subplots_adjust(hspace = 0.5, wspace=0.5)\n",
    "plt.title('Top 20 countries with the highest density of health posts')\n",
    "\n",
    "plt.subplot(1,2,2)\n",
    "sns.barplot(data = least20_countries3, x = 'Health posts', y = 'Country',color = 'red')\n",
    "plt.subplots_adjust(hspace = 0.5, wspace=0.5)\n",
    "plt.title('Least 20 countries with the lowest density of health posts')\n",
    "\n",
    "\n",
    "\n",
    "plt.show()\n"
   ]
  },
  {
   "cell_type": "code",
   "execution_count": 48,
   "metadata": {
    "colab": {
     "base_uri": "https://localhost:8080/",
     "height": 564
    },
    "id": "LaqFmUJ_u9dM",
    "outputId": "52e92064-8b63-47be-e7a0-b3acf2fd541a"
   },
   "outputs": [
    {
     "data": {
      "image/png": "[encoded data removed]",
      "text/plain": [
       "<Figure size 1296x432 with 2 Axes>"
      ]
     },
     "metadata": {
      "needs_background": "light"
     },
     "output_type": "display_data"
    }
   ],
   "source": [
    "# Top 20 countries with the highest density of provincial hospitals\n",
    "df7 = df.groupby('Country')['Provincial hospitals'].sum().reset_index()\n",
    "df7_sort1 = df7.sort_values(by = 'Provincial hospitals',ascending = False)\n",
    "top20_countries4 = df7_sort1.head(20)\n",
    "\n",
    "df7_sort2= df7.sort_values(by = 'Provincial hospitals',ascending = True)\n",
    "least20_countries4 = df7_sort2.head(20)\n",
    "\n",
    "plt.figure(figsize =(18,6))\n",
    "plt.subplot(1,2,1)\n",
    "sns.barplot(data = top20_countries4, x = 'Provincial hospitals', y = 'Country',color = 'green')\n",
    "plt.subplots_adjust(hspace = 0.5, wspace=0.5)\n",
    "plt.title('Top 20 countries with the highest density of Provincial hospitals')\n",
    "\n",
    "plt.subplot(1,2,2)\n",
    "sns.barplot(data = least20_countries4, x = 'Provincial hospitals', y = 'Country',color = 'yellow')\n",
    "plt.subplots_adjust(hspace = 0.5, wspace=0.5)\n",
    "plt.title('Least 20 countries with the lowest density of Provincial hospitals')\n",
    "\n",
    "plt.show()\n"
   ]
  },
  {
   "cell_type": "code",
   "execution_count": 49,
   "metadata": {
    "colab": {
     "base_uri": "https://localhost:8080/",
     "height": 564
    },
    "id": "kTg5yEJ4r0gL",
    "outputId": "0013e3c6-c7b2-4b52-9445-c99fadcb7619"
   },
   "outputs": [
    {
     "data": {
      "image/png": "[encoded data removed]",
      "text/plain": [
       "<Figure size 864x432 with 1 Axes>"
      ]
     },
     "metadata": {
      "needs_background": "light"
     },
     "output_type": "display_data"
    }
   ],
   "source": [
    "df8 = df.groupby('Region')['Total_hf_densities'].sum().reset_index()\n",
    "df1_sort3 = df8.sort_values(by = 'Total_hf_densities',ascending = False)\n",
    "df1_sort3\n",
    "\n",
    "plt.figure(figsize=(12,6))\n",
    "sns.barplot(data = df1_sort3, y = 'Region',x = 'Total_hf_densities', color = 'pink')\n",
    "plt.title('Regions by total healthcare facilities')\n",
    "plt.show()\n"
   ]
  },
  {
   "cell_type": "markdown",
   "metadata": {
    "id": "xcNoTzvWfkD2"
   },
   "source": [
    "# *Quick Insights*\n",
    "\n",
    "- The data explored features for a total of 144 countries\n",
    "\n",
    "- The top 10 countries by total healthcare facilities are : Sri Lanka, Czechia,Kiribati, Antigua and Barbuda,Vanuatu, Guinea-Bissau,Mexico,Marshall Islands, Dominica and Republic of Korea.\n",
    "- The least 10 countries by total healthcare facilities are Saudi Arabia (the very least), Egypt, Romania, Croatia,Malawi, Nepal, Ecuador, Costa Rica,Afghanistan and Pakistan\n",
    "Mostly Middle-east and African countries (they should be highly considered during Infrastructure planning)\n",
    "\n",
    "- There’s been a global decrease in healthcare facilities from 2010 to 2014. There was a slight decrease from 2010 to 2013 and a significant decrease towards 2014\n",
    "- The top and least 20 countries by density of each of the healthcare facilities was analysed and It was discovered that Antigua & Barbuda and Guinea-Bissau have the highest specialised hospitals while Marshall Islands and China have the least\n",
    "\n",
    " - Guinea-Bissau and Democratic People’s republic of Korea have the highest district or rural hospitals while Barbados and Saint Vincent of the Grenadines have the least\n",
    "\n",
    " - Kiribati and Marshall Islands have the highest health centres while Ethiopia and Micronesia have the least\n",
    " -  Sri Lanka and Czechia have the highest health posts while Zimbabwe and Saint Kitts & Nevis have the least\n",
    " - Monaco and Nauru have the highest Provincial hospitals while Kiribati and Fiji have the least\n",
    "\n",
    "- The countries were categorised into their  respective regions in order  of highest healthcare facilities we have Asia, Europe, Africa, North America , Oceania and South America\n"
   ]
  }
 ],
 "metadata": {
  "colab": {
   "provenance": []
  },
  "kernelspec": {
   "display_name": "Python 3 (ipykernel)",
   "language": "python",
   "name": "python3"
  },
  "language_info": {
   "codemirror_mode": {
    "name": "ipython",
    "version": 3
   },
   "file_extension": ".py",
   "mimetype": "text/x-python",
   "name": "python",
   "nbconvert_exporter": "python",
   "pygments_lexer": "ipython3",
   "version": "3.9.13"
  }
 },
 "nbformat": 4,
 "nbformat_minor": 4
}
